{
 "cells": [
  {
   "cell_type": "code",
   "execution_count": 1,
   "metadata": {},
   "outputs": [],
   "source": [
    "import pandas as pd\n",
    "import re"
   ]
  },
  {
   "cell_type": "code",
   "execution_count": null,
   "metadata": {},
   "outputs": [],
   "source": []
  },
  {
   "cell_type": "code",
   "execution_count": 6,
   "metadata": {},
   "outputs": [],
   "source": [
    "scrape = pd.read_csv(\"scrape14.csv\")"
   ]
  },
  {
   "cell_type": "code",
   "execution_count": 7,
   "metadata": {},
   "outputs": [],
   "source": [
    "def cleaning(x):   \n",
    "    x = x.lower()\n",
    "    for i in columndict.keys():\n",
    "        if i in x:\n",
    "            x = columndict[i]\n",
    "    return x "
   ]
  },
  {
   "cell_type": "code",
   "execution_count": null,
   "metadata": {},
   "outputs": [],
   "source": [
    "def cleaning_regex(x):\n",
    "    x=x.lower()\n",
    "   "
   ]
  },
  {
   "cell_type": "code",
   "execution_count": 8,
   "metadata": {},
   "outputs": [],
   "source": [
    "columndict ={\"acre\": \"AC\",\n",
    "                \"alagoas\": \"AL\",\n",
    "                \"amapá\" :\"AP\",\n",
    "                \"amazonas\": \"AM\",\n",
    "                \"bahia\" :\"BA\",\n",
    "                \"cear\" :\"CE\",\n",
    "                \"distrito federal\": \"DF\",\n",
    "                \"rito santo\" :\"ES\",\n",
    "                \"em goi\" :\"GO\",\n",
    "                \"maranh\" : \"MA\",\n",
    "                \"mato grosso do sul\": \"MS\",\n",
    "                \"mato grosso\": \"MT\",\n",
    "                \"minas gerais\": \"MG\",\n",
    "                \"para\" :\"PB\",\n",
    "                \"par\":\"PA\",\n",
    "                \"paran\": \"PR\",\n",
    "                \"pernambuco\": \"PE\",\n",
    "                \"piau\" :\"PI\",\n",
    "                \"rio de janeiro\": \"RJ\",\n",
    "                \"rio grande do norte\": \"RN\",\n",
    "                \"rio grande do sul\" :\"RS\",\n",
    "                \"rondônia\" :\"RO\",\n",
    "                \"roraima\" :\"RR\",\n",
    "                \"santa catarina\": \"SC\",\n",
    "                \"paulo\": \"SP\",\n",
    "                \"sergipe\": \"SE\",\n",
    "                \"tocantins\": \"TO\"}\n",
    "\n",
    "scrape[\"State\"] = scrape[\"Estado\"].apply(cleaning)\n",
    "scrape.drop(\"Estado\",axis=1,inplace=True)"
   ]
  },
  {
   "cell_type": "code",
   "execution_count": 9,
   "metadata": {},
   "outputs": [],
   "source": [
    "columndict ={\"dio\":\"Medium\",\n",
    "             \"rande\":\"Big\",\n",
    "             \"equeno\":\"Small\"}\n",
    "\n",
    "scrape[\"Size\"] = scrape[\"Check\"].apply(cleaning)"
   ]
  },
  {
   "cell_type": "code",
   "execution_count": 10,
   "metadata": {},
   "outputs": [],
   "source": [
    "columndict ={\"sortudo\" : \"Yes\",\n",
    "                \"Outros\":\"No\",\n",
    "                \"outro\":\"No\"}\n",
    "\n",
    "scrape[\"Adopted\"] = scrape[\"StatusAdocao\"].apply(cleaning)\n",
    "scrape.drop(\"StatusAdocao\",axis=1,inplace=True)"
   ]
  },
  {
   "cell_type": "code",
   "execution_count": 11,
   "metadata": {},
   "outputs": [],
   "source": [
    "columndict ={\"mea\":\"F\",\n",
    "             \"acho\":\"M\"}\n",
    "\n",
    "scrape[\"Sex\"] = scrape[\"Check\"].apply(cleaning)"
   ]
  },
  {
   "cell_type": "code",
   "execution_count": 12,
   "metadata": {},
   "outputs": [],
   "source": [
    "columndict ={\"achorro\":\"Dog\",\n",
    "             \"gato\":\"Cat\"}\n",
    "\n",
    "scrape[\"Type\"] = scrape[\"Check\"].apply(cleaning)\n",
    "scrape.drop(\"Check\",axis=1,inplace=True)"
   ]
  },
  {
   "cell_type": "code",
   "execution_count": 13,
   "metadata": {},
   "outputs": [
    {
     "data": {
      "text/html": [
       "<div>\n",
       "<style scoped>\n",
       "    .dataframe tbody tr th:only-of-type {\n",
       "        vertical-align: middle;\n",
       "    }\n",
       "\n",
       "    .dataframe tbody tr th {\n",
       "        vertical-align: top;\n",
       "    }\n",
       "\n",
       "    .dataframe thead th {\n",
       "        text-align: right;\n",
       "    }\n",
       "</style>\n",
       "<table border=\"1\" class=\"dataframe\">\n",
       "  <thead>\n",
       "    <tr style=\"text-align: right;\">\n",
       "      <th></th>\n",
       "      <th>Unnamed: 0</th>\n",
       "      <th>Descricao</th>\n",
       "      <th>Fotos</th>\n",
       "      <th>PetID</th>\n",
       "      <th>TamDescricao</th>\n",
       "      <th>Temperamento</th>\n",
       "      <th>State</th>\n",
       "      <th>Size</th>\n",
       "      <th>Adopted</th>\n",
       "      <th>Sex</th>\n",
       "      <th>Type</th>\n",
       "    </tr>\n",
       "  </thead>\n",
       "  <tbody>\n",
       "    <tr>\n",
       "      <th>0</th>\n",
       "      <td>0</td>\n",
       "      <td>['\\nA história de LUIS CARLOS\\nLUIS CARLOS - R...</td>\n",
       "      <td>1</td>\n",
       "      <td>119</td>\n",
       "      <td>181</td>\n",
       "      <td>['\\nPersonalidade\\n\\n        Temperamentos:\\n ...</td>\n",
       "      <td>SP</td>\n",
       "      <td>Big</td>\n",
       "      <td>Yes</td>\n",
       "      <td>M</td>\n",
       "      <td>Dog</td>\n",
       "    </tr>\n",
       "    <tr>\n",
       "      <th>1</th>\n",
       "      <td>1</td>\n",
       "      <td>['\\nA história de RAIKA\\nRAIKA É UMA MESTIÇA D...</td>\n",
       "      <td>1</td>\n",
       "      <td>120</td>\n",
       "      <td>170</td>\n",
       "      <td>['\\nPersonalidade\\n\\n        Temperamentos:\\n ...</td>\n",
       "      <td>SP</td>\n",
       "      <td>Medium</td>\n",
       "      <td>Yes</td>\n",
       "      <td>F</td>\n",
       "      <td>Dog</td>\n",
       "    </tr>\n",
       "    <tr>\n",
       "      <th>2</th>\n",
       "      <td>2</td>\n",
       "      <td>['\\nA história de sem nome ainda\\nesse lindo b...</td>\n",
       "      <td>1</td>\n",
       "      <td>121</td>\n",
       "      <td>209</td>\n",
       "      <td>['\\nPersonalidade\\n\\n        Temperamentos:\\n ...</td>\n",
       "      <td>RJ</td>\n",
       "      <td>Small</td>\n",
       "      <td>Yes</td>\n",
       "      <td>M</td>\n",
       "      <td>Cat</td>\n",
       "    </tr>\n",
       "    <tr>\n",
       "      <th>3</th>\n",
       "      <td>3</td>\n",
       "      <td>['\\nA história de michel teló\\nlindo,aproximad...</td>\n",
       "      <td>1</td>\n",
       "      <td>122</td>\n",
       "      <td>134</td>\n",
       "      <td>['\\nPersonalidade\\n\\n        Temperamentos:\\n ...</td>\n",
       "      <td>RJ</td>\n",
       "      <td>Small</td>\n",
       "      <td>No</td>\n",
       "      <td>M</td>\n",
       "      <td>Cat</td>\n",
       "    </tr>\n",
       "    <tr>\n",
       "      <th>4</th>\n",
       "      <td>4</td>\n",
       "      <td>['\\nA história de Ainda sem nome\\nLinda filhot...</td>\n",
       "      <td>1</td>\n",
       "      <td>123</td>\n",
       "      <td>157</td>\n",
       "      <td>['\\nPersonalidade\\n\\n        Temperamentos:\\n ...</td>\n",
       "      <td>RJ</td>\n",
       "      <td>Small</td>\n",
       "      <td>Yes</td>\n",
       "      <td>F</td>\n",
       "      <td>Cat</td>\n",
       "    </tr>\n",
       "  </tbody>\n",
       "</table>\n",
       "</div>"
      ],
      "text/plain": [
       "   Unnamed: 0                                          Descricao  Fotos  \\\n",
       "0           0  ['\\nA história de LUIS CARLOS\\nLUIS CARLOS - R...      1   \n",
       "1           1  ['\\nA história de RAIKA\\nRAIKA É UMA MESTIÇA D...      1   \n",
       "2           2  ['\\nA história de sem nome ainda\\nesse lindo b...      1   \n",
       "3           3  ['\\nA história de michel teló\\nlindo,aproximad...      1   \n",
       "4           4  ['\\nA história de Ainda sem nome\\nLinda filhot...      1   \n",
       "\n",
       "   PetID  TamDescricao                                       Temperamento  \\\n",
       "0    119           181  ['\\nPersonalidade\\n\\n        Temperamentos:\\n ...   \n",
       "1    120           170  ['\\nPersonalidade\\n\\n        Temperamentos:\\n ...   \n",
       "2    121           209  ['\\nPersonalidade\\n\\n        Temperamentos:\\n ...   \n",
       "3    122           134  ['\\nPersonalidade\\n\\n        Temperamentos:\\n ...   \n",
       "4    123           157  ['\\nPersonalidade\\n\\n        Temperamentos:\\n ...   \n",
       "\n",
       "  State    Size Adopted Sex Type  \n",
       "0    SP     Big     Yes   M  Dog  \n",
       "1    SP  Medium     Yes   F  Dog  \n",
       "2    RJ   Small     Yes   M  Cat  \n",
       "3    RJ   Small      No   M  Cat  \n",
       "4    RJ   Small     Yes   F  Cat  "
      ]
     },
     "execution_count": 13,
     "metadata": {},
     "output_type": "execute_result"
    }
   ],
   "source": [
    "scrape.head()"
   ]
  },
  {
   "cell_type": "code",
   "execution_count": 22,
   "metadata": {},
   "outputs": [
    {
     "data": {
      "text/plain": [
       "C    7413\n",
       "G    4366\n",
       "Name: Tipo, dtype: int64"
      ]
     },
     "execution_count": 22,
     "metadata": {},
     "output_type": "execute_result"
    }
   ],
   "source": [
    "columndict ={\"sem nome\":\"No Name\"}"
   ]
  },
  {
   "cell_type": "code",
   "execution_count": 35,
   "metadata": {},
   "outputs": [
    {
     "name": "stdout",
     "output_type": "stream",
     "text": [
      "None\n"
     ]
    }
   ],
   "source": [
    "print(re.search(\"de\\s(\\w*\\s*\\w*)\\\\n\",\"\\\\nA história de LUIS CARLOS\\\\nLUIS CARLOS - RAÇA PERDIGUEIRO - Macho - APROX. 8 ANOS.\\\\nPORTE GRANDE. MUITO DÓCIL, AMOROSO E COMPANHEIRO. CONTATO COM ANTONELLA:cordioa@gmail.com\\\\n\"))"
   ]
  },
  {
   "cell_type": "code",
   "execution_count": 15,
   "metadata": {
    "scrolled": true
   },
   "outputs": [
    {
     "data": {
      "text/plain": [
       "\"['\\\\nA história de LUIS CARLOS\\\\nLUIS CARLOS - RAÇA PERDIGUEIRO - Macho - APROX. 8 ANOS.\\\\nPORTE GRANDE. MUITO DÓCIL, AMOROSO E COMPANHEIRO. CONTATO COM ANTONELLA:cordioa@gmail.com\\\\n']\""
      ]
     },
     "execution_count": 15,
     "metadata": {},
     "output_type": "execute_result"
    }
   ],
   "source": [
    "scrape[\"Descricao\"][0]"
   ]
  },
  {
   "cell_type": "code",
   "execution_count": 24,
   "metadata": {},
   "outputs": [
    {
     "data": {
      "text/plain": [
       "\"['\\\\nA história de Filhotinho\\\\nFilhote macho\\\\n']\""
      ]
     },
     "execution_count": 24,
     "metadata": {},
     "output_type": "execute_result"
    }
   ],
   "source": [
    "scrape[\"Descricao\"][5500]"
   ]
  },
  {
   "cell_type": "markdown",
   "metadata": {},
   "source": [
    "name_dic = {}\n",
    "for n,i in enumerate(scrape[\"Descricao\"]):\n",
    "    r = re.findall(r\"\\w+\\\\n\",i)\n",
    "    v = str(re.findall(r\"de\\s\\w+\\n\",i))\n",
    "    for i in r:\n",
    "        name_dic[i] = i.strip(\"\\\\n\").lower()\n",
    "    for i in v:\n",
    "        name_dic[i] = i.strip(\"\\n\").lower()\n",
    "    scrape[\"Descricao\"][n]= str(name_dic[i])"
   ]
  },
  {
   "cell_type": "code",
   "execution_count": null,
   "metadata": {},
   "outputs": [],
   "source": [
    "columndict = name_dic\n",
    "scrape[\"Nome\"] = scrape[\"Descricao\"].apply(sos)"
   ]
  },
  {
   "cell_type": "code",
   "execution_count": null,
   "metadata": {},
   "outputs": [],
   "source": []
  },
  {
   "cell_type": "code",
   "execution_count": null,
   "metadata": {},
   "outputs": [],
   "source": [
    "scrape[\"Descricao\"]"
   ]
  },
  {
   "cell_type": "code",
   "execution_count": null,
   "metadata": {},
   "outputs": [],
   "source": [
    "scrape[\"Nome\"].value_counts()"
   ]
  },
  {
   "cell_type": "code",
   "execution_count": null,
   "metadata": {},
   "outputs": [],
   "source": [
    "def reg (x):\n",
    "    r = re.findall(r\"(\\w+)\\\\n\",x)\n",
    "    return r"
   ]
  },
  {
   "cell_type": "code",
   "execution_count": null,
   "metadata": {},
   "outputs": [],
   "source": [
    "r = re.findall(r\"(de\\s\\w+)\\\\n\",scrape[\"Descricao\"][80]))"
   ]
  },
  {
   "cell_type": "code",
   "execution_count": null,
   "metadata": {},
   "outputs": [],
   "source": [
    "scrape[\"Nome_2\"]=[\",\".join(map(str,l)) for l in scrape[\"Descricao\"].apply(reg)]"
   ]
  },
  {
   "cell_type": "code",
   "execution_count": null,
   "metadata": {},
   "outputs": [],
   "source": [
    "scrape[\"Nome_2\"].value_counts()"
   ]
  },
  {
   "cell_type": "code",
   "execution_count": null,
   "metadata": {},
   "outputs": [],
   "source": []
  },
  {
   "cell_type": "code",
   "execution_count": 12,
   "metadata": {},
   "outputs": [],
   "source": [
    "name_dic = {}\n",
    "for i in scrape[\"Descricao\"]:\n",
    "    v = str(re.findall(r\"de\\s(\\w+)\\n\",i)).lower()\n"
   ]
  },
  {
   "cell_type": "code",
   "execution_count": 13,
   "metadata": {},
   "outputs": [
    {
     "ename": "KeyError",
     "evalue": "'['",
     "output_type": "error",
     "traceback": [
      "\u001b[1;31m---------------------------------------------------------------------------\u001b[0m",
      "\u001b[1;31mKeyError\u001b[0m                                  Traceback (most recent call last)",
      "\u001b[1;32m<ipython-input-13-b4866ed17f79>\u001b[0m in \u001b[0;36m<module>\u001b[1;34m\u001b[0m\n\u001b[1;32m----> 1\u001b[1;33m \u001b[0mname_dic\u001b[0m\u001b[1;33m.\u001b[0m\u001b[0mpop\u001b[0m\u001b[1;33m(\u001b[0m\u001b[1;34m'['\u001b[0m\u001b[1;33m)\u001b[0m\u001b[1;33m\u001b[0m\u001b[1;33m\u001b[0m\u001b[0m\n\u001b[0m\u001b[0;32m      2\u001b[0m \u001b[0mname_dic\u001b[0m\u001b[1;33m.\u001b[0m\u001b[0mpop\u001b[0m\u001b[1;33m(\u001b[0m\u001b[1;34m']'\u001b[0m\u001b[1;33m)\u001b[0m\u001b[1;33m\u001b[0m\u001b[1;33m\u001b[0m\u001b[0m\n",
      "\u001b[1;31mKeyError\u001b[0m: '['"
     ]
    }
   ],
   "source": [
    "name_dic.pop('[')\n",
    "name_dic.pop(']')\n"
   ]
  },
  {
   "cell_type": "code",
   "execution_count": 14,
   "metadata": {},
   "outputs": [
    {
     "data": {
      "text/plain": [
       "{}"
      ]
     },
     "execution_count": 14,
     "metadata": {},
     "output_type": "execute_result"
    }
   ],
   "source": [
    "name_dic"
   ]
  },
  {
   "cell_type": "code",
   "execution_count": 15,
   "metadata": {},
   "outputs": [
    {
     "data": {
      "text/plain": [
       "Sim    6840\n",
       "Não    4930\n",
       "[]        9\n",
       "Name: Status2, dtype: int64"
      ]
     },
     "execution_count": 15,
     "metadata": {},
     "output_type": "execute_result"
    }
   ],
   "source": [
    "scrape[\"Status2\"].value_counts()"
   ]
  },
  {
   "cell_type": "code",
   "execution_count": null,
   "metadata": {},
   "outputs": [],
   "source": []
  },
  {
   "cell_type": "code",
   "execution_count": 16,
   "metadata": {},
   "outputs": [
    {
     "ename": "NameError",
     "evalue": "name 'state_dict' is not defined",
     "output_type": "error",
     "traceback": [
      "\u001b[1;31m---------------------------------------------------------------------------\u001b[0m",
      "\u001b[1;31mNameError\u001b[0m                                 Traceback (most recent call last)",
      "\u001b[1;32m<ipython-input-16-538279314a31>\u001b[0m in \u001b[0;36m<module>\u001b[1;34m\u001b[0m\n\u001b[0;32m      1\u001b[0m \u001b[1;32mfor\u001b[0m \u001b[0mi\u001b[0m \u001b[1;32min\u001b[0m \u001b[0mrange\u001b[0m\u001b[1;33m(\u001b[0m\u001b[1;36m20\u001b[0m\u001b[1;33m)\u001b[0m\u001b[1;33m:\u001b[0m\u001b[1;33m\u001b[0m\u001b[1;33m\u001b[0m\u001b[0m\n\u001b[1;32m----> 2\u001b[1;33m     \u001b[1;32mfor\u001b[0m \u001b[0mk\u001b[0m \u001b[1;32min\u001b[0m \u001b[0mstate_dict\u001b[0m\u001b[1;33m.\u001b[0m\u001b[0mkeys\u001b[0m\u001b[1;33m(\u001b[0m\u001b[1;33m)\u001b[0m\u001b[1;33m:\u001b[0m\u001b[1;33m\u001b[0m\u001b[1;33m\u001b[0m\u001b[0m\n\u001b[0m\u001b[0;32m      3\u001b[0m         \u001b[0mscrape\u001b[0m\u001b[1;33m[\u001b[0m\u001b[1;34m\"Estado\"\u001b[0m\u001b[1;33m]\u001b[0m\u001b[1;33m[\u001b[0m\u001b[0mi\u001b[0m\u001b[1;33m]\u001b[0m \u001b[1;33m=\u001b[0m \u001b[0mre\u001b[0m\u001b[1;33m.\u001b[0m\u001b[0msub\u001b[0m\u001b[1;33m(\u001b[0m\u001b[0mk\u001b[0m \u001b[1;33m,\u001b[0m \u001b[0mstate_dict\u001b[0m\u001b[1;33m[\u001b[0m\u001b[0mk\u001b[0m\u001b[1;33m]\u001b[0m\u001b[1;33m,\u001b[0m \u001b[0mscrape\u001b[0m\u001b[1;33m[\u001b[0m\u001b[1;34m\"Estado\"\u001b[0m\u001b[1;33m]\u001b[0m\u001b[1;33m[\u001b[0m\u001b[0mi\u001b[0m\u001b[1;33m]\u001b[0m\u001b[1;33m)\u001b[0m\u001b[1;33m\u001b[0m\u001b[1;33m\u001b[0m\u001b[0m\n\u001b[0;32m      4\u001b[0m \u001b[1;33m\u001b[0m\u001b[0m\n\u001b[0;32m      5\u001b[0m \u001b[1;33m\u001b[0m\u001b[0m\n",
      "\u001b[1;31mNameError\u001b[0m: name 'state_dict' is not defined"
     ]
    }
   ],
   "source": [
    "for i in range(20):\n",
    "    for k in state_dict.keys():\n",
    "        scrape[\"Estado\"][i] = re.sub(k , state_dict[k], scrape[\"Estado\"][i])\n",
    "        \n",
    "        \n"
   ]
  }
 ],
 "metadata": {
  "kernelspec": {
   "display_name": "Python 3",
   "language": "python",
   "name": "python3"
  },
  "language_info": {
   "codemirror_mode": {
    "name": "ipython",
    "version": 3
   },
   "file_extension": ".py",
   "mimetype": "text/x-python",
   "name": "python",
   "nbconvert_exporter": "python",
   "pygments_lexer": "ipython3",
   "version": "3.7.3"
  }
 },
 "nbformat": 4,
 "nbformat_minor": 2
}
