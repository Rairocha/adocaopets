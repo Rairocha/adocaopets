{
 "cells": [
  {
   "cell_type": "code",
   "execution_count": 3,
   "metadata": {},
   "outputs": [],
   "source": [
    "import pandas as pd\n",
    "import numpy as np\n",
    "import matplotlib.pyplot as plt\n",
    "import seaborn as sns\n",
    "import json\n"
   ]
  },
  {
   "cell_type": "raw",
   "metadata": {},
   "source": [
    "Carregando dados de treinamento e de teste"
   ]
  },
  {
   "cell_type": "code",
   "execution_count": null,
   "metadata": {},
   "outputs": [],
   "source": []
  },
  {
   "cell_type": "code",
   "execution_count": 99,
   "metadata": {},
   "outputs": [],
   "source": [
    "puppy_train= pd.read_csv(\"train.csv\")\n",
    "puppy_test= pd.read_csv(\"test.csv\")"
   ]
  },
  {
   "cell_type": "code",
   "execution_count": null,
   "metadata": {},
   "outputs": [],
   "source": [
    "#puppy_train.info()\n",
    "puppy_dog = puppy_train.mask(puppy_train[\"Type\"]==2)\n",
    "puppy_cat = puppy_train.mask(puppy_train[\"Type\"]==1)"
   ]
  },
  {
   "cell_type": "raw",
   "metadata": {},
   "source": [
    "Balanceando dados removendo uma classe\n",
    "New classification 0 - adopted in the first month 1- adopted between one and three months 2- not adopted in 3 months"
   ]
  },
  {
   "cell_type": "code",
   "execution_count": 100,
   "metadata": {},
   "outputs": [],
   "source": [
    "puppy_train[\"AdoptionSpeed\"] = puppy_train[\"AdoptionSpeed\"].replace({1: 0, 2: 0, 3:1,4:2 })\n",
    "#puppy_test[\"AdoptionSpeed\"] = puppy_test[\"AdoptionSpeed\"].replace({1: 0, 2: 0, 3:1,4:2 })"
   ]
  },
  {
   "cell_type": "code",
   "execution_count": 58,
   "metadata": {},
   "outputs": [],
   "source": [
    "def reasign(dataframe, column_name,dictionaryregex=None,dictionary=None):\n",
    "    if dictionaryregex!=None:\n",
    "        for value_to_check in dictionaryregex.keys():   \n",
    "            dataframe[column_name] = dataframe[column_name].replace(to_replace = value_to_check, value = dictionaryregex.get(value_to_check), regex = True)\n",
    "    if dictionary !=None:\n",
    "        for value_to_check in dictionary.keys():   \n",
    "            dataframe[column_name] = dataframe[column_name].replace(to_replace = value_to_check, value = dictionary.get(value_to_check), regex = False)\n",
    "    #dataframe.Name.str.replace(\"(?:\\w)No Name\",\"No Name\")"
   ]
  },
  {
   "cell_type": "raw",
   "metadata": {},
   "source": [
    "Feature RescuerID"
   ]
  },
  {
   "cell_type": "code",
   "execution_count": 59,
   "metadata": {},
   "outputs": [],
   "source": [
    "resc =  puppy_train[\"RescuerID\"].value_counts()\n",
    "resctest =  puppy_test[\"RescuerID\"].value_counts()"
   ]
  },
  {
   "cell_type": "code",
   "execution_count": 60,
   "metadata": {},
   "outputs": [],
   "source": [
    "dict_rescuer = resc.to_dict()\n",
    "dict_rescuertest = resctest.to_dict()"
   ]
  },
  {
   "cell_type": "code",
   "execution_count": 61,
   "metadata": {},
   "outputs": [],
   "source": [
    "reasign(puppy_test,\"RescuerID\",dictionary=dict_rescuertest)"
   ]
  },
  {
   "cell_type": "code",
   "execution_count": 62,
   "metadata": {},
   "outputs": [],
   "source": [
    "reasign(puppy_train,\"RescuerID\",dictionary=dict_rescuer)"
   ]
  },
  {
   "cell_type": "code",
   "execution_count": 63,
   "metadata": {},
   "outputs": [],
   "source": [
    "puppy_train.loc[puppy_train[\"RescuerID\"]<11,\"RescuerID\"]=0\n",
    "puppy_train.loc[puppy_train[\"RescuerID\"]>10,\"RescuerID\"]=\"Organization\"\n",
    "puppy_train.loc[puppy_train[\"RescuerID\"]==0,\"RescuerID\"]=\"Individual\""
   ]
  },
  {
   "cell_type": "code",
   "execution_count": 64,
   "metadata": {},
   "outputs": [],
   "source": [
    "puppy_test.loc[puppy_test[\"RescuerID\"]<11,\"RescuerID\"]=0\n",
    "puppy_test.loc[puppy_test[\"RescuerID\"]>10,\"RescuerID\"]=\"Organization\"\n",
    "puppy_test.loc[puppy_test[\"RescuerID\"]==0,\"RescuerID\"]=\"Individual\""
   ]
  },
  {
   "cell_type": "code",
   "execution_count": 65,
   "metadata": {},
   "outputs": [],
   "source": [
    "puppy_train.loc[puppy_train[\"RescuerID\"]==\"Organization\",\"Organization\"]=1\n",
    "puppy_train.loc[puppy_train[\"RescuerID\"]==\"Individual\",\"Organization\"]=0\n",
    "puppy_train = puppy_train.drop(\"RescuerID\",axis=1)"
   ]
  },
  {
   "cell_type": "code",
   "execution_count": null,
   "metadata": {},
   "outputs": [],
   "source": [
    "puppy_test.loc[puppy_test[\"RescuerID\"]==\"Organization\",\"Organization\"]=1\n",
    "puppy_test.loc[puppy_test[\"RescuerID\"]==\"Individual\",\"Organization\"]=0\n",
    "puppy_test = puppy_test.drop(\"RescuerID\",axis=1)"
   ]
  },
  {
   "cell_type": "code",
   "execution_count": null,
   "metadata": {},
   "outputs": [],
   "source": [
    "puppy_test"
   ]
  },
  {
   "cell_type": "code",
   "execution_count": null,
   "metadata": {},
   "outputs": [],
   "source": []
  },
  {
   "cell_type": "code",
   "execution_count": null,
   "metadata": {},
   "outputs": [],
   "source": []
  },
  {
   "cell_type": "raw",
   "metadata": {},
   "source": [
    "Dropando features que nao contribuem "
   ]
  },
  {
   "cell_type": "code",
   "execution_count": 66,
   "metadata": {},
   "outputs": [],
   "source": [
    "puppy_train= puppy_train.drop([\"PetID\"],axis=1)\n",
    "puppy_test= puppy_test.drop([\"PetID\"],axis=1)"
   ]
  },
  {
   "cell_type": "raw",
   "metadata": {},
   "source": [
    "Substituindo feature de quantidade por repeticao de linhas"
   ]
  },
  {
   "cell_type": "code",
   "execution_count": 67,
   "metadata": {},
   "outputs": [],
   "source": [
    "puppy_train= puppy_train.loc[puppy_train.index.repeat(puppy_train.Quantity)]\n",
    "puppy_test= puppy_test.loc[puppy_test.index.repeat(puppy_test.Quantity)]\n",
    "puppy_train= puppy_train.drop(\"Quantity\",axis=1)\n",
    "puppy_test= puppy_test.drop(\"Quantity\",axis=1)"
   ]
  },
  {
   "cell_type": "code",
   "execution_count": null,
   "metadata": {},
   "outputs": [],
   "source": [
    "puppy_train.info()"
   ]
  },
  {
   "cell_type": "raw",
   "metadata": {},
   "source": [
    "Correlogram of features dos dataset"
   ]
  },
  {
   "cell_type": "code",
   "execution_count": null,
   "metadata": {},
   "outputs": [],
   "source": [
    "plt.figure(figsize=(15,10), dpi= 80)\n",
    "sns.heatmap(puppy_train.corr(), xticklabels=puppy_train.corr().columns, yticklabels=puppy_train.corr().columns,cmap='RdYlGn', center=0, annot=True)\n",
    "\n",
    "# Decorations\n",
    "plt.title('Correlogram of cub features ', fontsize=22)\n",
    "plt.xticks(fontsize=12)\n",
    "plt.yticks(fontsize=12)\n",
    "plt.show()"
   ]
  },
  {
   "cell_type": "code",
   "execution_count": null,
   "metadata": {},
   "outputs": [],
   "source": [
    "plt.figure(figsize=(15,10), dpi= 80)\n",
    "sns.heatmap(puppy_test.corr(), xticklabels=puppy_test.corr().columns, yticklabels=puppy_test.corr().columns,cmap='RdYlGn', center=0, annot=True)\n",
    "\n",
    "# Decorations\n",
    "plt.title('Correlogram of cub features ', fontsize=22)\n",
    "plt.xticks(fontsize=12)\n",
    "plt.yticks(fontsize=12)\n",
    "plt.show()"
   ]
  },
  {
   "cell_type": "raw",
   "metadata": {},
   "source": [
    "Lidar com valores nulos "
   ]
  },
  {
   "cell_type": "code",
   "execution_count": null,
   "metadata": {},
   "outputs": [],
   "source": [
    "puppy_train.isna().sum()"
   ]
  },
  {
   "cell_type": "code",
   "execution_count": 68,
   "metadata": {},
   "outputs": [],
   "source": [
    "puppy_train[\"Name\"]=puppy_train[\"Name\"].fillna(\"No Name\")\n",
    "puppy_test[\"Name\"]=puppy_test[\"Name\"].fillna(\"No Name\")"
   ]
  },
  {
   "cell_type": "code",
   "execution_count": 69,
   "metadata": {},
   "outputs": [],
   "source": [
    "puppy_train[\"Description\"]=puppy_train[\"Description\"].fillna(0)\n",
    "puppy_test[\"Description\"]=puppy_test[\"Description\"].fillna(0)"
   ]
  },
  {
   "cell_type": "raw",
   "metadata": {},
   "source": [
    "Avaliando a variavel Name\n"
   ]
  },
  {
   "cell_type": "code",
   "execution_count": null,
   "metadata": {},
   "outputs": [],
   "source": [
    "#function identifies names that are actually meaningless and changes to \"No Name\"\n"
   ]
  },
  {
   "cell_type": "code",
   "execution_count": 70,
   "metadata": {},
   "outputs": [],
   "source": [
    "#dictionary of regex and not regex to identify meaningless names\n",
    "import re \n",
    "name_dict = {'[Kk][Ii][Tt][Tt](\\w)*':'No Name',\n",
    "             'NaN':\"No Name\",\n",
    "            '[Pp][Uu][Pp](\\w)*':'No Name',\n",
    "            '(?:\\D|\\d)*[Nn][Oo]\\s[Nn][Aa][Mm][Ee](?:\\D|\\d)*':'No Name',\n",
    "            '!':'No Name',\n",
    "            '\\d\\d':\"No Name\",\n",
    "            '\\w\\d':\"No Name\",\n",
    "            '[Pp][Ee][Tt][Ss]':\"No Name\",\n",
    "            '[Uu][Rr][Gg][Ee][Nn][Tt]': 'No Name',\n",
    "            '[Dd][Oo][Gg]': 'No Name',\n",
    "            '[Dd][Ii][Ee]': 'No Name',\n",
    "            'Girl': 'No Name',\n",
    "            '[Cc][Aa][Tt]': \"No Name\",\n",
    "            'Boy': 'No Name',\n",
    "            'Female': 'No Name'}\n",
    "name_dict2={}\n",
    "exception = puppy_train[puppy_train['Name'].apply(lambda x: len(str(x))) < 3]['Name'].unique()\n",
    "for e in exception:\n",
    "    name_dict2[e]=\"No Name\"\n",
    "\n",
    "reasign(puppy_train, \"Name\", name_dict,name_dict2)"
   ]
  },
  {
   "cell_type": "code",
   "execution_count": 71,
   "metadata": {},
   "outputs": [],
   "source": [
    "reasign(puppy_test, \"Name\", name_dict,name_dict2)"
   ]
  },
  {
   "cell_type": "code",
   "execution_count": null,
   "metadata": {},
   "outputs": [],
   "source": [
    "#imports wordcloud library\n",
    "from wordcloud import WordCloud, STOPWORDS, ImageColorGenerator"
   ]
  },
  {
   "cell_type": "code",
   "execution_count": null,
   "metadata": {},
   "outputs": [],
   "source": [
    "#creates wordcloud of most popular names divide by cats and dogs\n",
    "fig, ax = plt.subplots(figsize = (16, 12))\n",
    "plt.subplot(1, 2, 1)\n",
    "text_cat = ' '.join(puppy_train.loc[puppy_train['Type'] == 2, 'Name'].fillna('').values)\n",
    "text_cat = text_cat.replace(\"No Name\", \"\")\n",
    "wordcloud = WordCloud(max_font_size=None, background_color='white',\n",
    "                      width=1200, height=1000).generate(text_cat)\n",
    "plt.imshow(wordcloud)\n",
    "plt.title('Top cat names')\n",
    "plt.axis(\"off\")\n",
    "\n",
    "plt.subplot(1, 2, 2)\n",
    "text_dog = ' '.join(puppy_train.loc[puppy_train['Type'] == 1, 'Name'].fillna('').values)\n",
    "text_dog = text_dog.replace(\"No Name\", \"\")\n",
    "wordcloud = WordCloud(max_font_size=None, background_color='white',\n",
    "                      width=1200, height=1000).generate(text_dog)\n",
    "plt.imshow(wordcloud)\n",
    "plt.title('Top dog names')\n",
    "plt.axis(\"off\")\n",
    "\n",
    "plt.show()"
   ]
  },
  {
   "cell_type": "code",
   "execution_count": 72,
   "metadata": {},
   "outputs": [],
   "source": [
    "puppy_train.loc[puppy_train[\"Name\"]==\"No Name\",\"NameBi\"]=0\n",
    "puppy_train.loc[puppy_train[\"Name\"]!=\"No Name\",\"NameBi\"]=1"
   ]
  },
  {
   "cell_type": "code",
   "execution_count": null,
   "metadata": {},
   "outputs": [],
   "source": [
    "sns.set(style=\"whitegrid\")\n",
    "\n",
    "sns.countplot(x=\"Type\", hue=\"AdoptionSpeed\", data=puppy_train)"
   ]
  },
  {
   "cell_type": "code",
   "execution_count": null,
   "metadata": {},
   "outputs": [],
   "source": [
    "sns.set(style=\"whitegrid\")\n",
    "\n",
    "sns.countplot(x=\"NameBi\", hue=\"AdoptionSpeed\", data=puppy_train)"
   ]
  },
  {
   "cell_type": "code",
   "execution_count": null,
   "metadata": {},
   "outputs": [],
   "source": [
    "puppy_train= puppy_train.drop(\"NameBi\",axis=1)\n",
    "puppy_test= puppy_test.drop(\"NameBi\",axis=1)\n"
   ]
  },
  {
   "cell_type": "code",
   "execution_count": 73,
   "metadata": {},
   "outputs": [],
   "source": [
    "puppy_train = puppy_train.drop(\"Name\",axis=1)\n",
    "puppy_test = puppy_test.drop(\"Name\",axis=1)\n",
    "#mantendo apenas a feature resultante \"NameBi\""
   ]
  },
  {
   "cell_type": "raw",
   "metadata": {},
   "source": [
    "Avaliando Variavel Age"
   ]
  },
  {
   "cell_type": "code",
   "execution_count": 111,
   "metadata": {},
   "outputs": [],
   "source": [
    "bins = pd.IntervalIndex.from_tuples([(0, 3), (4, 12), (13, 256)])\n",
    "puppy_train[\"Age\"]=pd.cut(puppy_train[\"Age\"],bins = bins,labels=[\"Baby\",\"Cub\",\"Adult\"])\n",
    "puppy_test[\"Age\"]=pd.cut(puppy_test[\"Age\"],bins = bins,labels=[\"Baby\",\"Cub\",\"Adult\"])"
   ]
  },
  {
   "cell_type": "code",
   "execution_count": 114,
   "metadata": {},
   "outputs": [
    {
     "data": {
      "text/plain": [
       "(0, 3]       1432\n",
       "(4, 12]      1273\n",
       "(13, 256]    1089\n",
       "Name: Age, dtype: int64"
      ]
     },
     "execution_count": 114,
     "metadata": {},
     "output_type": "execute_result"
    }
   ],
   "source": [
    "puppy_train.loc[puppy_train[\"AdoptionSpeed\"]==2][\"Age\"].value_counts()"
   ]
  },
  {
   "cell_type": "code",
   "execution_count": 115,
   "metadata": {},
   "outputs": [
    {
     "data": {
      "image/png": "[encoded data removed]",
      "text/plain": [
       "<Figure size 432x288 with 1 Axes>"
      ]
     },
     "metadata": {
      "needs_background": "light"
     },
     "output_type": "display_data"
    }
   ],
   "source": [
    "from matplotlib import rc\n",
    "r = [0,1,2]\n",
    "df = pd.DataFrame(np.array([[4589, 1227, 1099], [1752, 650, 554], [1432,1273 , 1089]]),columns=['Baby', 'Cub', 'Adult'])\n",
    "# From raw value to percentage\n",
    "totals = [i+j+k for i,j,k in zip(df['Baby'], df['Cub'], df['Adult'])]\n",
    "greenBars = [i / j * 100 for i,j in zip(df['Baby'], totals)]\n",
    "orangeBars = [i / j * 100 for i,j in zip(df['Cub'], totals)]\n",
    "blueBars = [i / j * 100 for i,j in zip(df['Adult'], totals)]\n",
    " \n",
    "#plot\n",
    "barWidth = 0.85\n",
    "names = ('Baby','Cub','Adult')\n",
    "# Create green Bars\n",
    "plt.bar(r, greenBars, color='#b5ffb9', edgecolor='white', width=barWidth, label=\"Adoption Speed 0\")\n",
    "# Create orange Bars\n",
    "plt.bar(r, orangeBars, bottom=greenBars, color='#f9bc86', edgecolor='white', width=barWidth, label=\"Adoption Speed 1\")\n",
    "# Create blue Bars\n",
    "plt.bar(r, blueBars, bottom=[i+j for i,j in zip(greenBars, orangeBars)], color='#a3acff', edgecolor='white', width=barWidth, label=\"Not Adopted\")\n",
    " \n",
    "# Custom x axis\n",
    "plt.xticks(r, names)\n",
    "plt.xlabel(\"group\")\n",
    " \n",
    "# Add a legend\n",
    "plt.legend(loc='upper left', bbox_to_anchor=(1,1), ncol=1)\n",
    " \n",
    "\n",
    "#Show graphic\n",
    "plt.show()\n"
   ]
  },
  {
   "cell_type": "code",
   "execution_count": null,
   "metadata": {
    "scrolled": true
   },
   "outputs": [],
   "source": [
    "sns.countplot(x=\"AdoptionSpeed\", hue=\"Age\", data=puppy_train, palette=\"muted\")"
   ]
  },
  {
   "cell_type": "code",
   "execution_count": null,
   "metadata": {},
   "outputs": [],
   "source": [
    "age_dummy = pd.get_dummies(puppy_train['Age'],drop_first=True)  # drop_first=True > Para evitar a multi-colinaridade\n",
    "\n",
    "puppy_train.drop(\"Age\",axis=1,inplace=True)"
   ]
  },
  {
   "cell_type": "raw",
   "metadata": {},
   "source": [
    "Descriptionl lenght"
   ]
  },
  {
   "cell_type": "code",
   "execution_count": 74,
   "metadata": {},
   "outputs": [],
   "source": [
    "puppy_test[\"DescriptionLenght\"]=puppy_test[\"Description\"].str.len()\n",
    "puppy_test = puppy_test.drop(\"Description\",axis=1)"
   ]
  },
  {
   "cell_type": "code",
   "execution_count": 75,
   "metadata": {},
   "outputs": [
    {
     "data": {
      "image/png": "[encoded data removed]",
      "text/plain": [
       "<Figure size 432x288 with 1 Axes>"
      ]
     },
     "metadata": {
      "needs_background": "light"
     },
     "output_type": "display_data"
    }
   ],
   "source": [
    "puppy_train[\"DescriptionLenght\"]=puppy_train[\"Description\"].str.len()\n",
    "puppy_train = puppy_train.drop(\"Description\",axis=1)\n",
    "sns.boxplot(x=\"AdoptionSpeed\", y=\"DescriptionLenght\", data=puppy_train,palette='Set1',showfliers=False)\n",
    "plt.y_lim=2000\n"
   ]
  },
  {
   "cell_type": "code",
   "execution_count": null,
   "metadata": {},
   "outputs": [],
   "source": []
  },
  {
   "cell_type": "code",
   "execution_count": null,
   "metadata": {},
   "outputs": [],
   "source": [
    "sns.countplot(x=\"AdoptionSpeed\", hue=\"Health\", data=puppy_train, palette=\"muted\")"
   ]
  },
  {
   "cell_type": "code",
   "execution_count": null,
   "metadata": {},
   "outputs": [],
   "source": [
    "puppy_train\n"
   ]
  },
  {
   "cell_type": "raw",
   "metadata": {},
   "source": [
    "Analise das especies "
   ]
  },
  {
   "cell_type": "code",
   "execution_count": 76,
   "metadata": {},
   "outputs": [
    {
     "data": {
      "text/html": [
       "<div>\n",
       "<style scoped>\n",
       "    .dataframe tbody tr th:only-of-type {\n",
       "        vertical-align: middle;\n",
       "    }\n",
       "\n",
       "    .dataframe tbody tr th {\n",
       "        vertical-align: top;\n",
       "    }\n",
       "\n",
       "    .dataframe thead th {\n",
       "        text-align: right;\n",
       "    }\n",
       "</style>\n",
       "<table border=\"1\" class=\"dataframe\">\n",
       "  <thead>\n",
       "    <tr style=\"text-align: right;\">\n",
       "      <th></th>\n",
       "      <th>BreedID</th>\n",
       "      <th>Type</th>\n",
       "      <th>BreedName</th>\n",
       "    </tr>\n",
       "  </thead>\n",
       "  <tbody>\n",
       "    <tr>\n",
       "      <th>0</th>\n",
       "      <td>1</td>\n",
       "      <td>1</td>\n",
       "      <td>Affenpinscher</td>\n",
       "    </tr>\n",
       "    <tr>\n",
       "      <th>1</th>\n",
       "      <td>2</td>\n",
       "      <td>1</td>\n",
       "      <td>Afghan Hound</td>\n",
       "    </tr>\n",
       "    <tr>\n",
       "      <th>2</th>\n",
       "      <td>3</td>\n",
       "      <td>1</td>\n",
       "      <td>Airedale Terrier</td>\n",
       "    </tr>\n",
       "    <tr>\n",
       "      <th>3</th>\n",
       "      <td>4</td>\n",
       "      <td>1</td>\n",
       "      <td>Akbash</td>\n",
       "    </tr>\n",
       "    <tr>\n",
       "      <th>4</th>\n",
       "      <td>5</td>\n",
       "      <td>1</td>\n",
       "      <td>Akita</td>\n",
       "    </tr>\n",
       "  </tbody>\n",
       "</table>\n",
       "</div>"
      ],
      "text/plain": [
       "   BreedID  Type         BreedName\n",
       "0        1     1     Affenpinscher\n",
       "1        2     1      Afghan Hound\n",
       "2        3     1  Airedale Terrier\n",
       "3        4     1            Akbash\n",
       "4        5     1             Akita"
      ]
     },
     "execution_count": 76,
     "metadata": {},
     "output_type": "execute_result"
    }
   ],
   "source": [
    "breed=pd.read_csv(\"breed_labels.csv\")\n",
    "breed.head()"
   ]
  },
  {
   "cell_type": "code",
   "execution_count": 77,
   "metadata": {},
   "outputs": [],
   "source": [
    "dict_breed = pd.Series(breed.BreedName.values,index=breed.BreedID).to_dict()"
   ]
  },
  {
   "cell_type": "code",
   "execution_count": 78,
   "metadata": {},
   "outputs": [],
   "source": [
    "dict_breed[0]=\"Unknown\""
   ]
  },
  {
   "cell_type": "code",
   "execution_count": 79,
   "metadata": {},
   "outputs": [],
   "source": [
    "reasign(puppy_train, \"Breed1\", dict_breed)"
   ]
  },
  {
   "cell_type": "code",
   "execution_count": 80,
   "metadata": {},
   "outputs": [],
   "source": [
    "reasign(puppy_train, \"Breed2\",dict_breed)"
   ]
  },
  {
   "cell_type": "code",
   "execution_count": null,
   "metadata": {},
   "outputs": [],
   "source": [
    "fig, ax = plt.subplots(figsize = (20, 18))\n",
    "plt.subplot(2, 2, 1)\n",
    "text_cat1 = ' '.join(puppy_train.loc[puppy_train['Type'] == 2, 'Breed1'].fillna('').values)\n",
    "text_cat1 = text_cat1.replace(\"Hair\", \"\") \n",
    "\n",
    "wordcloud = WordCloud(max_font_size=None, background_color='white', collocations=False,\n",
    "                      width=1200, height=1000).generate(text_cat1)\n",
    "plt.imshow(wordcloud)\n",
    "plt.title('Top cat breed1')\n",
    "plt.axis(\"off\")\n",
    "\n",
    "plt.subplot(2, 2, 2)\n",
    "text_dog1 = ' '.join(puppy_train.loc[puppy_train['Type'] == 1, 'Breed1'].fillna('').values)\n",
    "text_dog1 = text_dog1.replace(\"Breed\", \"\")\n",
    "text_dog1 = text_dog1.replace(\"Mixed\", \"\")\n",
    "wordcloud = WordCloud(max_font_size=None, background_color='white', collocations=False,\n",
    "                      width=1200, height=1000).generate(text_dog1)\n",
    "plt.imshow(wordcloud)\n",
    "plt.title('Top dog breed1')\n",
    "plt.axis(\"off\")\n",
    "\n",
    "plt.subplot(2, 2, 3)\n",
    "text_cat2 = ' '.join(puppy_train.loc[puppy_train['Type'] == 2, 'Breed2'].fillna('').values)\n",
    "text_cat2 = text_cat2.replace(\"Unknown\", \"\")\n",
    "wordcloud = WordCloud(max_font_size=None, background_color='white', collocations=False,\n",
    "                      width=1200, height=1000).generate(text_cat2)\n",
    "plt.imshow(wordcloud)\n",
    "plt.title('Top cat breed1')\n",
    "plt.axis(\"off\")\n",
    "\n",
    "plt.subplot(2, 2, 4)\n",
    "text_dog2 = ' '.join(puppy_train.loc[puppy_train['Type'] == 1, 'Breed2'].fillna('').values)\n",
    "text_dog2 = text_dog2.replace(\"Unknown\", \"\")\n",
    "wordcloud = WordCloud(max_font_size=None, background_color='white', collocations=False,\n",
    "                      width=1200, height=1000).generate(text_dog2)\n",
    "plt.imshow(wordcloud)\n",
    "plt.title('Top dog breed2')\n",
    "plt.axis(\"off\")\n",
    "plt.show()"
   ]
  },
  {
   "cell_type": "code",
   "execution_count": 81,
   "metadata": {},
   "outputs": [],
   "source": [
    "def types(x):\n",
    "    try:\n",
    "        if x['Breed1'] > x['Breed2']:\n",
    "            y = x['Breed2']+ '-' + x['Breed1']\n",
    "        elif x['Breed1'] == x['Breed2']:\n",
    "            y = x['Breed1']\n",
    "        else :\n",
    "            y = x['Breed1']+ '-' + x['Breed2']\n",
    "    except:\n",
    "        y = x['Breed1']\n",
    "    return y\n",
    "puppy_train['Breed'] = puppy_train.apply(types, axis=1)"
   ]
  },
  {
   "cell_type": "code",
   "execution_count": 82,
   "metadata": {},
   "outputs": [],
   "source": [
    "puppy_train.loc[puppy_train[\"Breed\"]==0,\"Breed\"]=\"Unknown\""
   ]
  },
  {
   "cell_type": "code",
   "execution_count": 83,
   "metadata": {},
   "outputs": [],
   "source": [
    "puppy_train = puppy_train.drop([\"Breed1\",\"Breed2\"],axis=1)"
   ]
  },
  {
   "cell_type": "code",
   "execution_count": null,
   "metadata": {},
   "outputs": [],
   "source": [
    "breed = pd.get_dummies(puppy_train['Breed'],drop_first=True)  # drop_first=True > Para evitar a multi-colinaridade\n",
    "\n",
    "puppy_train.drop(\"Breed\",axis=1,inplace=True)"
   ]
  },
  {
   "cell_type": "code",
   "execution_count": null,
   "metadata": {},
   "outputs": [],
   "source": []
  },
  {
   "cell_type": "raw",
   "metadata": {},
   "source": [
    "Color"
   ]
  },
  {
   "cell_type": "code",
   "execution_count": 108,
   "metadata": {},
   "outputs": [],
   "source": [
    "r = [0,1,2,3,4,5,6]\n",
    "raw_data = {'greenBars': [3707, 1764, 525, 298, 492,380,371], 'orangeBars': [1633, 854, 184, 145, 185,133,125],'blueBars': [2087, 1132,238, 191, 207, 171, 171]}\n",
    "df = pd.DataFrame(raw_data)\n",
    "            \n",
    "# From raw value to percentage\n",
    "totals = [i+j+k for i,j,k in zip(df['greenBars'], df['orangeBars'], df['blueBars'])]\n",
    "greenBars = [i / j * 100 for i,j in zip(df['greenBars'], totals)]\n",
    "orangeBars = [i / j * 100 for i,j in zip(df['orangeBars'], totals)]\n",
    "blueBars = [i / j * 100 for i,j in zip(df['blueBars'], totals)]\n",
    " "
   ]
  },
  {
   "cell_type": "code",
   "execution_count": 109,
   "metadata": {},
   "outputs": [
    {
     "data": {
      "image/png": "[encoded data removed]",
      "text/plain": [
       "<Figure size 432x288 with 1 Axes>"
      ]
     },
     "metadata": {
      "needs_background": "light"
     },
     "output_type": "display_data"
    }
   ],
   "source": [
    "from matplotlib import rc\n",
    "#plot\n",
    "barWidth = 0.85\n",
    "names = ('Black','Brown','Cream', \"Gray\", \"Golden\", \"White\", \"Yellow\")\n",
    "# Create green Bars\n",
    "plt.bar(r, greenBars, color='#b5ffb9', edgecolor='white', width=barWidth, label=\"Adoption Speed 0\")\n",
    "# Create orange Bars\n",
    "plt.bar(r, orangeBars, bottom=greenBars, color='#f9bc86', edgecolor='white', width=barWidth, label=\"Adoption Speed 1\")\n",
    "# Create blue Bars\n",
    "plt.bar(r, blueBars, bottom=[i+j for i,j in zip(greenBars, orangeBars)], color='#a3acff', edgecolor='white', width=barWidth, label=\"Not Adopted\")\n",
    " \n",
    "# Custom x axis\n",
    "plt.xticks(r, names)\n",
    "plt.xlabel(\"group\")\n",
    " \n",
    "# Add a legend\n",
    "plt.legend(loc='upper left', bbox_to_anchor=(1,1), ncol=1)\n",
    " \n",
    "\n",
    "#Show graphic\n",
    "plt.show()"
   ]
  },
  {
   "cell_type": "code",
   "execution_count": 42,
   "metadata": {},
   "outputs": [
    {
     "data": {
      "text/plain": [
       "<matplotlib.axes._subplots.AxesSubplot at 0x1e8caadf198>"
      ]
     },
     "execution_count": 42,
     "metadata": {},
     "output_type": "execute_result"
    },
    {
     "data": {
      "image/png": "[encoded data removed]",
      "text/plain": [
       "<Figure size 432x288 with 1 Axes>"
      ]
     },
     "metadata": {
      "needs_background": "light"
     },
     "output_type": "display_data"
    }
   ],
   "source": [
    "sns.countplot(x=\"Color1\", hue=\"AdoptionSpeed\", data=puppy_train, palette=\"muted\")"
   ]
  },
  {
   "cell_type": "code",
   "execution_count": 104,
   "metadata": {},
   "outputs": [
    {
     "data": {
      "text/plain": [
       "1    2087\n",
       "2    1132\n",
       "3     238\n",
       "5     207\n",
       "4     191\n",
       "7     171\n",
       "6     171\n",
       "Name: Color1, dtype: int64"
      ]
     },
     "execution_count": 104,
     "metadata": {},
     "output_type": "execute_result"
    }
   ],
   "source": [
    "puppy_train.loc[puppy_train[\"AdoptionSpeed\"]==2][\"Color1\"].value_counts()"
   ]
  },
  {
   "cell_type": "code",
   "execution_count": 84,
   "metadata": {},
   "outputs": [],
   "source": [
    "colors={1: 'Black',\n",
    "  2: 'Brown',\n",
    "  3: 'Golden',\n",
    "  4: 'Yellow',\n",
    "  5: 'Cream',\n",
    "  6: 'Gray',\n",
    "  7: 'White'}\n"
   ]
  },
  {
   "cell_type": "code",
   "execution_count": 85,
   "metadata": {},
   "outputs": [],
   "source": [
    "reasign(puppy_train,\"Color1\",dictionary=colors)\n",
    "reasign(puppy_train,\"Color2\",dictionary=colors)\n",
    "reasign(puppy_train,\"Color3\",dictionary=colors)"
   ]
  },
  {
   "cell_type": "code",
   "execution_count": 86,
   "metadata": {},
   "outputs": [
    {
     "data": {
      "text/plain": [
       "0         13918\n",
       "White      7086\n",
       "Cream       958\n",
       "Gray        862\n",
       "Yellow      444\n",
       "Golden      362\n",
       "Name: Color3, dtype: int64"
      ]
     },
     "execution_count": 86,
     "metadata": {},
     "output_type": "execute_result"
    }
   ],
   "source": [
    "puppy_train[\"Color3\"].value_counts()"
   ]
  },
  {
   "cell_type": "code",
   "execution_count": 87,
   "metadata": {},
   "outputs": [],
   "source": [
    "def color_func(x):\n",
    "    if x[\"Color3\"]==0:\n",
    "        try:\n",
    "            if x['Color1'] > x['Color2']:\n",
    "                y = x['Color2']+ '-' + x['Color1']\n",
    "            elif x['Color1'] == x['Color2']:\n",
    "                y = x['Color1']\n",
    "            else :\n",
    "                y = x['Color1']+ '-' + x['Color2']\n",
    "        except:\n",
    "            y = x['Color1']\n",
    "    else:\n",
    "        y = x[\"Color1\"]+ \"-\" + x[\"Color2\"] + \"-\" + x[\"Color3\"]\n",
    "    return y"
   ]
  },
  {
   "cell_type": "code",
   "execution_count": 90,
   "metadata": {},
   "outputs": [],
   "source": [
    "puppy_train['Color'] = puppy_train.apply(color_func, axis=1)"
   ]
  },
  {
   "cell_type": "code",
   "execution_count": 91,
   "metadata": {},
   "outputs": [
    {
     "ename": "KeyError",
     "evalue": "'Color'",
     "output_type": "error",
     "traceback": [
      "\u001b[1;31m---------------------------------------------------------------------------\u001b[0m",
      "\u001b[1;31mKeyError\u001b[0m                                  Traceback (most recent call last)",
      "\u001b[1;32m~\\Anaconda3\\lib\\site-packages\\pandas\\core\\indexes\\base.py\u001b[0m in \u001b[0;36mget_loc\u001b[1;34m(self, key, method, tolerance)\u001b[0m\n\u001b[0;32m   2656\u001b[0m             \u001b[1;32mtry\u001b[0m\u001b[1;33m:\u001b[0m\u001b[1;33m\u001b[0m\u001b[1;33m\u001b[0m\u001b[0m\n\u001b[1;32m-> 2657\u001b[1;33m                 \u001b[1;32mreturn\u001b[0m \u001b[0mself\u001b[0m\u001b[1;33m.\u001b[0m\u001b[0m_engine\u001b[0m\u001b[1;33m.\u001b[0m\u001b[0mget_loc\u001b[0m\u001b[1;33m(\u001b[0m\u001b[0mkey\u001b[0m\u001b[1;33m)\u001b[0m\u001b[1;33m\u001b[0m\u001b[1;33m\u001b[0m\u001b[0m\n\u001b[0m\u001b[0;32m   2658\u001b[0m             \u001b[1;32mexcept\u001b[0m \u001b[0mKeyError\u001b[0m\u001b[1;33m:\u001b[0m\u001b[1;33m\u001b[0m\u001b[1;33m\u001b[0m\u001b[0m\n",
      "\u001b[1;32mpandas/_libs/index.pyx\u001b[0m in \u001b[0;36mpandas._libs.index.IndexEngine.get_loc\u001b[1;34m()\u001b[0m\n",
      "\u001b[1;32mpandas/_libs/index.pyx\u001b[0m in \u001b[0;36mpandas._libs.index.IndexEngine.get_loc\u001b[1;34m()\u001b[0m\n",
      "\u001b[1;32mpandas/_libs/hashtable_class_helper.pxi\u001b[0m in \u001b[0;36mpandas._libs.hashtable.PyObjectHashTable.get_item\u001b[1;34m()\u001b[0m\n",
      "\u001b[1;32mpandas/_libs/hashtable_class_helper.pxi\u001b[0m in \u001b[0;36mpandas._libs.hashtable.PyObjectHashTable.get_item\u001b[1;34m()\u001b[0m\n",
      "\u001b[1;31mKeyError\u001b[0m: 'Color'",
      "\nDuring handling of the above exception, another exception occurred:\n",
      "\u001b[1;31mKeyError\u001b[0m                                  Traceback (most recent call last)",
      "\u001b[1;32m<ipython-input-91-8108b3410d35>\u001b[0m in \u001b[0;36m<module>\u001b[1;34m\u001b[0m\n\u001b[0;32m      1\u001b[0m \u001b[0mcolor_train\u001b[0m \u001b[1;33m=\u001b[0m \u001b[0mpuppy_train\u001b[0m\u001b[1;33m[\u001b[0m\u001b[1;34m'Color'\u001b[0m\u001b[1;33m]\u001b[0m\u001b[1;33m\u001b[0m\u001b[1;33m\u001b[0m\u001b[0m\n\u001b[1;32m----> 2\u001b[1;33m \u001b[0mcolor_test\u001b[0m \u001b[1;33m=\u001b[0m \u001b[0mpuppy_test\u001b[0m\u001b[1;33m[\u001b[0m\u001b[1;34m'Color'\u001b[0m\u001b[1;33m]\u001b[0m\u001b[1;33m\u001b[0m\u001b[1;33m\u001b[0m\u001b[0m\n\u001b[0m",
      "\u001b[1;32m~\\Anaconda3\\lib\\site-packages\\pandas\\core\\frame.py\u001b[0m in \u001b[0;36m__getitem__\u001b[1;34m(self, key)\u001b[0m\n\u001b[0;32m   2925\u001b[0m             \u001b[1;32mif\u001b[0m \u001b[0mself\u001b[0m\u001b[1;33m.\u001b[0m\u001b[0mcolumns\u001b[0m\u001b[1;33m.\u001b[0m\u001b[0mnlevels\u001b[0m \u001b[1;33m>\u001b[0m \u001b[1;36m1\u001b[0m\u001b[1;33m:\u001b[0m\u001b[1;33m\u001b[0m\u001b[1;33m\u001b[0m\u001b[0m\n\u001b[0;32m   2926\u001b[0m                 \u001b[1;32mreturn\u001b[0m \u001b[0mself\u001b[0m\u001b[1;33m.\u001b[0m\u001b[0m_getitem_multilevel\u001b[0m\u001b[1;33m(\u001b[0m\u001b[0mkey\u001b[0m\u001b[1;33m)\u001b[0m\u001b[1;33m\u001b[0m\u001b[1;33m\u001b[0m\u001b[0m\n\u001b[1;32m-> 2927\u001b[1;33m             \u001b[0mindexer\u001b[0m \u001b[1;33m=\u001b[0m \u001b[0mself\u001b[0m\u001b[1;33m.\u001b[0m\u001b[0mcolumns\u001b[0m\u001b[1;33m.\u001b[0m\u001b[0mget_loc\u001b[0m\u001b[1;33m(\u001b[0m\u001b[0mkey\u001b[0m\u001b[1;33m)\u001b[0m\u001b[1;33m\u001b[0m\u001b[1;33m\u001b[0m\u001b[0m\n\u001b[0m\u001b[0;32m   2928\u001b[0m             \u001b[1;32mif\u001b[0m \u001b[0mis_integer\u001b[0m\u001b[1;33m(\u001b[0m\u001b[0mindexer\u001b[0m\u001b[1;33m)\u001b[0m\u001b[1;33m:\u001b[0m\u001b[1;33m\u001b[0m\u001b[1;33m\u001b[0m\u001b[0m\n\u001b[0;32m   2929\u001b[0m                 \u001b[0mindexer\u001b[0m \u001b[1;33m=\u001b[0m \u001b[1;33m[\u001b[0m\u001b[0mindexer\u001b[0m\u001b[1;33m]\u001b[0m\u001b[1;33m\u001b[0m\u001b[1;33m\u001b[0m\u001b[0m\n",
      "\u001b[1;32m~\\Anaconda3\\lib\\site-packages\\pandas\\core\\indexes\\base.py\u001b[0m in \u001b[0;36mget_loc\u001b[1;34m(self, key, method, tolerance)\u001b[0m\n\u001b[0;32m   2657\u001b[0m                 \u001b[1;32mreturn\u001b[0m \u001b[0mself\u001b[0m\u001b[1;33m.\u001b[0m\u001b[0m_engine\u001b[0m\u001b[1;33m.\u001b[0m\u001b[0mget_loc\u001b[0m\u001b[1;33m(\u001b[0m\u001b[0mkey\u001b[0m\u001b[1;33m)\u001b[0m\u001b[1;33m\u001b[0m\u001b[1;33m\u001b[0m\u001b[0m\n\u001b[0;32m   2658\u001b[0m             \u001b[1;32mexcept\u001b[0m \u001b[0mKeyError\u001b[0m\u001b[1;33m:\u001b[0m\u001b[1;33m\u001b[0m\u001b[1;33m\u001b[0m\u001b[0m\n\u001b[1;32m-> 2659\u001b[1;33m                 \u001b[1;32mreturn\u001b[0m \u001b[0mself\u001b[0m\u001b[1;33m.\u001b[0m\u001b[0m_engine\u001b[0m\u001b[1;33m.\u001b[0m\u001b[0mget_loc\u001b[0m\u001b[1;33m(\u001b[0m\u001b[0mself\u001b[0m\u001b[1;33m.\u001b[0m\u001b[0m_maybe_cast_indexer\u001b[0m\u001b[1;33m(\u001b[0m\u001b[0mkey\u001b[0m\u001b[1;33m)\u001b[0m\u001b[1;33m)\u001b[0m\u001b[1;33m\u001b[0m\u001b[1;33m\u001b[0m\u001b[0m\n\u001b[0m\u001b[0;32m   2660\u001b[0m         \u001b[0mindexer\u001b[0m \u001b[1;33m=\u001b[0m \u001b[0mself\u001b[0m\u001b[1;33m.\u001b[0m\u001b[0mget_indexer\u001b[0m\u001b[1;33m(\u001b[0m\u001b[1;33m[\u001b[0m\u001b[0mkey\u001b[0m\u001b[1;33m]\u001b[0m\u001b[1;33m,\u001b[0m \u001b[0mmethod\u001b[0m\u001b[1;33m=\u001b[0m\u001b[0mmethod\u001b[0m\u001b[1;33m,\u001b[0m \u001b[0mtolerance\u001b[0m\u001b[1;33m=\u001b[0m\u001b[0mtolerance\u001b[0m\u001b[1;33m)\u001b[0m\u001b[1;33m\u001b[0m\u001b[1;33m\u001b[0m\u001b[0m\n\u001b[0;32m   2661\u001b[0m         \u001b[1;32mif\u001b[0m \u001b[0mindexer\u001b[0m\u001b[1;33m.\u001b[0m\u001b[0mndim\u001b[0m \u001b[1;33m>\u001b[0m \u001b[1;36m1\u001b[0m \u001b[1;32mor\u001b[0m \u001b[0mindexer\u001b[0m\u001b[1;33m.\u001b[0m\u001b[0msize\u001b[0m \u001b[1;33m>\u001b[0m \u001b[1;36m1\u001b[0m\u001b[1;33m:\u001b[0m\u001b[1;33m\u001b[0m\u001b[1;33m\u001b[0m\u001b[0m\n",
      "\u001b[1;32mpandas/_libs/index.pyx\u001b[0m in \u001b[0;36mpandas._libs.index.IndexEngine.get_loc\u001b[1;34m()\u001b[0m\n",
      "\u001b[1;32mpandas/_libs/index.pyx\u001b[0m in \u001b[0;36mpandas._libs.index.IndexEngine.get_loc\u001b[1;34m()\u001b[0m\n",
      "\u001b[1;32mpandas/_libs/hashtable_class_helper.pxi\u001b[0m in \u001b[0;36mpandas._libs.hashtable.PyObjectHashTable.get_item\u001b[1;34m()\u001b[0m\n",
      "\u001b[1;32mpandas/_libs/hashtable_class_helper.pxi\u001b[0m in \u001b[0;36mpandas._libs.hashtable.PyObjectHashTable.get_item\u001b[1;34m()\u001b[0m\n",
      "\u001b[1;31mKeyError\u001b[0m: 'Color'"
     ]
    }
   ],
   "source": [
    "color_train = puppy_train['Color']\n",
    "color_test = puppy_test['Color']"
   ]
  },
  {
   "cell_type": "code",
   "execution_count": 92,
   "metadata": {},
   "outputs": [],
   "source": [
    "puppy_train = puppy_train.drop([\"Color1\",\"Color2\",\"Color3\"],axis=1)"
   ]
  },
  {
   "cell_type": "code",
   "execution_count": null,
   "metadata": {},
   "outputs": [],
   "source": [
    "color_dummy = pd.get_dummies(puppy_train['Color'],drop_first=True)  # drop_first=True > Para evitar a multi-colinaridade\n",
    "\n",
    "puppy_train.drop(\"Color\",axis=1,inplace=True)\n"
   ]
  },
  {
   "cell_type": "raw",
   "metadata": {},
   "source": [
    "Vet Care "
   ]
  },
  {
   "cell_type": "code",
   "execution_count": null,
   "metadata": {},
   "outputs": [],
   "source": [
    "puppy_train.loc[(puppy_train[\"Dewormed\"]==2)&(puppy_train[\"Vaccinated\"]==2)&(puppy_train[\"Sterilized\"]==1)]"
   ]
  },
  {
   "cell_type": "code",
   "execution_count": null,
   "metadata": {},
   "outputs": [],
   "source": [
    "gender={1 : \"Male\",\n",
    "        2 : \"Female\",\n",
    "        3 : \"Mixed\"}\n",
    "reasign(puppy_train,\"Gender\",dictionary=gender)"
   ]
  },
  {
   "cell_type": "code",
   "execution_count": null,
   "metadata": {},
   "outputs": [],
   "source": [
    "gender_dummy = pd.get_dummies(puppy_train['Gender'],drop_first=True)  # drop_first=True > Para evitar a multi-colinaridade\n",
    "\n",
    "puppy_train.drop(\"Gender\",axis=1,inplace=True)"
   ]
  },
  {
   "cell_type": "code",
   "execution_count": null,
   "metadata": {},
   "outputs": [],
   "source": [
    "vaccinated ={1 : \"Yes\",\n",
    "         2 : \"No\",\n",
    "         3 : \"Unknown\"}\n",
    "reasign(puppy_train,\"Vaccinated\",dictionary=vaccinated)"
   ]
  },
  {
   "cell_type": "code",
   "execution_count": null,
   "metadata": {},
   "outputs": [],
   "source": [
    "vaccinated_dummy = pd.get_dummies(puppy_train['Vaccinated'],drop_first=True)  # drop_first=True > Para evitar a multi-colinaridade\n",
    "\n",
    "puppy_train.drop(\"Vaccinated\",axis=1,inplace=True)\n",
    "\n"
   ]
  },
  {
   "cell_type": "code",
   "execution_count": null,
   "metadata": {},
   "outputs": [],
   "source": [
    "dewormed={1 : \"Male\",\n",
    "        2 : \"Female\",\n",
    "        3 : \"Mixed\"}\n",
    "reasign(puppy_train,\"Dewormed\",dictionary=dewormed)"
   ]
  },
  {
   "cell_type": "code",
   "execution_count": null,
   "metadata": {},
   "outputs": [],
   "source": [
    "dewormed_dummy = pd.get_dummies(puppy_train['Dewormed'],drop_first=True)  # drop_first=True > Para evitar a multi-colinaridade\n",
    "\n",
    "puppy_train.drop(\"Dewormed\",axis=1,inplace=True)\n",
    "\n"
   ]
  },
  {
   "cell_type": "code",
   "execution_count": null,
   "metadata": {},
   "outputs": [],
   "source": [
    "sterilized={1 : \"Yes\",\n",
    "        2 : \"No\",\n",
    "        3 : \"Unknown\"}\n",
    "reasign(puppy_train,\"Sterilized\",dictionary=sterilized)"
   ]
  },
  {
   "cell_type": "code",
   "execution_count": null,
   "metadata": {},
   "outputs": [],
   "source": [
    "sterilized_dummy = pd.get_dummies(puppy_train['Sterilized'],drop_first=True)  # drop_first=True > Para evitar a multi-colinaridade\n",
    "\n",
    "puppy_train.drop(\"Sterilized\",axis=1,inplace=True)\n",
    "\n"
   ]
  },
  {
   "cell_type": "code",
   "execution_count": null,
   "metadata": {},
   "outputs": [],
   "source": [
    "health={1 : \"Healthy\", \n",
    "        2 : \"Minor Injury\",\n",
    "        3 : \"Serious Injury\",\n",
    "        0 : \"Not Specified\"}\n",
    "reasign(puppy_train,\"Health\",dictionary=gender)"
   ]
  },
  {
   "cell_type": "code",
   "execution_count": null,
   "metadata": {},
   "outputs": [],
   "source": [
    "health_dummy = pd.get_dummies(puppy_train['Health'],drop_first=True)  # drop_first=True > Para evitar a multi-colinaridade\n",
    "\n",
    "puppy_train.drop(\"Health\",axis=1,inplace=True)\n",
    "\n"
   ]
  },
  {
   "cell_type": "raw",
   "metadata": {},
   "source": [
    "Physical Characteristics"
   ]
  },
  {
   "cell_type": "code",
   "execution_count": null,
   "metadata": {},
   "outputs": [],
   "source": [
    "types={1 : \"Dog\",\n",
    "        2 : \"Cat\"}\n",
    "reasign(puppy_train,\"Type\",dictionary=types)"
   ]
  },
  {
   "cell_type": "code",
   "execution_count": null,
   "metadata": {},
   "outputs": [],
   "source": [
    "type_dummy = pd.get_dummies(puppy_train['Type'],drop_first=True)  # drop_first=True > Para evitar a multi-colinaridade\n",
    "\n",
    "puppy_train.drop(\"Type\",axis=1,inplace=True)"
   ]
  },
  {
   "cell_type": "code",
   "execution_count": null,
   "metadata": {},
   "outputs": [],
   "source": [
    "size={1 : \"Small\",\n",
    "      2 : \"Medium\",\n",
    "      3 : \"Large\",\n",
    "      4 : \"Extra Large\",\n",
    "      0 : \"Not Specified\"}\n",
    "reasign(puppy_train,\"MaturitySize\",dictionary=size)"
   ]
  },
  {
   "cell_type": "code",
   "execution_count": null,
   "metadata": {},
   "outputs": [],
   "source": [
    "size_dummy = pd.get_dummies(puppy_train['MaturitySize'],drop_first=True)  # drop_first=True > Para evitar a multi-colinaridade\n",
    "\n",
    "puppy_train.drop(\"MaturitySize\",axis=1,inplace=True)"
   ]
  },
  {
   "cell_type": "code",
   "execution_count": null,
   "metadata": {},
   "outputs": [],
   "source": [
    "fur={1 : \"Small\",\n",
    "      2 : \"Medium\",\n",
    "      3 : \"Large\",\n",
    "      4 : \"Extra Large\",\n",
    "      0 : \"Not Specified\"}\n",
    "reasign(puppy_train,\"FurLength\",dictionary=fur)"
   ]
  },
  {
   "cell_type": "code",
   "execution_count": null,
   "metadata": {},
   "outputs": [],
   "source": [
    "fur_dummy = pd.get_dummies(puppy_train['FurLength'],drop_first=True)  # drop_first=True > Para evitar a multi-colinaridade\n",
    "\n",
    "puppy_train.drop(\"FurLength\",axis=1,inplace=True)"
   ]
  },
  {
   "cell_type": "code",
   "execution_count": null,
   "metadata": {
    "scrolled": true
   },
   "outputs": [],
   "source": [
    "puppy_train.info()"
   ]
  },
  {
   "cell_type": "raw",
   "metadata": {},
   "source": [
    "Fee"
   ]
  },
  {
   "cell_type": "code",
   "execution_count": 53,
   "metadata": {},
   "outputs": [
    {
     "data": {
      "text/plain": [
       "0      12663\n",
       "1        942\n",
       "50       468\n",
       "100      408\n",
       "20       136\n",
       "30       103\n",
       "10        70\n",
       "80        66\n",
       "5         24\n",
       "15        20\n",
       "40        19\n",
       "70        13\n",
       "60        11\n",
       "25         8\n",
       "90         8\n",
       "8          7\n",
       "9          5\n",
       "38         4\n",
       "35         3\n",
       "59         2\n",
       "65         2\n",
       "88         2\n",
       "45         2\n",
       "72         1\n",
       "48         1\n",
       "99         1\n",
       "75         1\n",
       "2          1\n",
       "14         1\n",
       "89         1\n",
       "Name: Fee, dtype: int64"
      ]
     },
     "execution_count": 53,
     "metadata": {},
     "output_type": "execute_result"
    }
   ],
   "source": [
    "puppy_train[\"Fee\"].value_counts()"
   ]
  },
  {
   "cell_type": "code",
   "execution_count": 52,
   "metadata": {},
   "outputs": [],
   "source": []
  },
  {
   "cell_type": "code",
   "execution_count": 93,
   "metadata": {},
   "outputs": [],
   "source": [
    "puppy_train.loc[puppy_train[\"Fee\"]<101,\"Fee\"]=0\n",
    "puppy_train.loc[puppy_train[\"Fee\"]>100,\"Fee\"]=1\n",
    "\n",
    "\n",
    "puppy_test.loc[puppy_test[\"Fee\"]<101,\"Fee\"]=0\n",
    "puppy_test.loc[puppy_test[\"Fee\"]>100,\"Fee\"]=1"
   ]
  },
  {
   "cell_type": "raw",
   "metadata": {},
   "source": [
    "Extra"
   ]
  },
  {
   "cell_type": "code",
   "execution_count": null,
   "metadata": {},
   "outputs": [],
   "source": [
    "sns.countplot(\"Type\",data=puppy_train,hue=\"AdoptionSpeed\")"
   ]
  },
  {
   "cell_type": "code",
   "execution_count": null,
   "metadata": {},
   "outputs": [],
   "source": [
    "sns.boxplot(x=\"AdoptionSpeed\", y=\"PhotoAmt\", data=puppy_train,palette='Set1',showfliers=False)"
   ]
  },
  {
   "cell_type": "code",
   "execution_count": null,
   "metadata": {},
   "outputs": [],
   "source": [
    "puppy_train[\"VideoAmt\"].value_counts()"
   ]
  },
  {
   "cell_type": "code",
   "execution_count": null,
   "metadata": {},
   "outputs": [],
   "source": [
    "puppy_train[\"VideoAmt\"].loc[puppy_train[\"AdoptionSpeed\"]==0].value_counts()\n",
    "puppy_train[\"VideoAmt\"].loc[puppy_train[\"AdoptionSpeed\"]==1].value_counts()\n",
    "puppy_train[\"VideoAmt\"].loc[puppy_train[\"AdoptionSpeed\"]==2].value_counts()"
   ]
  },
  {
   "cell_type": "code",
   "execution_count": null,
   "metadata": {},
   "outputs": [],
   "source": [
    "\n",
    "sns.countplot(x=puppy_train[\"VideoAmt\"].loc[puppy_train[\"VideoAmt\"]==1],hue=puppy_train[\"AdoptionSpeed\"].loc[puppy_train[\"VideoAmt\"]==1], data=puppy_train)"
   ]
  },
  {
   "cell_type": "code",
   "execution_count": null,
   "metadata": {},
   "outputs": [],
   "source": [
    "sns.boxplot(x=\"AdoptionSpeed\", y=\"VideoAmt\", data=puppy_train,palette='Set1',showfliers=True)"
   ]
  },
  {
   "cell_type": "code",
   "execution_count": 94,
   "metadata": {},
   "outputs": [],
   "source": [
    "puppy_train= puppy_train.drop([\"VideoAmt\"],axis=1)\n",
    "puppy_test = puppy_test.drop([\"VideoAmt\"],axis=1)"
   ]
  },
  {
   "cell_type": "code",
   "execution_count": null,
   "metadata": {},
   "outputs": [],
   "source": [
    "sns.countplot(\"Vaccinated\",data=puppy_train,hue=\"AdoptionSpeed\")"
   ]
  },
  {
   "cell_type": "code",
   "execution_count": null,
   "metadata": {},
   "outputs": [],
   "source": [
    "sns.countplot(\"Dewormed\",data=puppy_train,hue=\"AdoptionSpeed\")"
   ]
  },
  {
   "cell_type": "code",
   "execution_count": null,
   "metadata": {},
   "outputs": [],
   "source": [
    "sns.countplot(\"Sterilized\",data=puppy_train,hue=\"AdoptionSpeed\")"
   ]
  },
  {
   "cell_type": "code",
   "execution_count": null,
   "metadata": {},
   "outputs": [],
   "source": []
  },
  {
   "cell_type": "code",
   "execution_count": null,
   "metadata": {},
   "outputs": [],
   "source": [
    "from matplotlib import rc\n",
    "r = [41326, 41401, 41327, 41361, 41336, 41335, 41325, 41332, 41330,\n",
    "       41342, 41324, 41345, 41367, 41415]\n",
    "\n",
    "df = pd.DataFrame(np.array([[4558, 1922, 346, 272,162,103,51,46,45,11,10,8,2,1], \n",
    "        [2004, 731, 197,117,103,42,23,16,12,6,4,2,1,1], \n",
    "        [2152,1192 , 300, 141,132,108,80,36,23,9,9,8,6,1]]),columns=r,index=['<1month', '<3months', 'NotAdopted'])\n",
    "\n",
    "df2 = df.apply(lambda x: x/x.sum(), axis=1)\n",
    "df2"
   ]
  },
  {
   "cell_type": "code",
   "execution_count": null,
   "metadata": {},
   "outputs": [],
   "source": [
    "puppy_train[\"Fee\"].value_counts()"
   ]
  },
  {
   "cell_type": "code",
   "execution_count": null,
   "metadata": {},
   "outputs": [],
   "source": []
  },
  {
   "cell_type": "code",
   "execution_count": null,
   "metadata": {},
   "outputs": [],
   "source": [
    "puppy_train = puppy_train.drop([\"Color1\",\"Color2\",\"Color3\",\"State\"],axis=1)"
   ]
  },
  {
   "cell_type": "code",
   "execution_count": 95,
   "metadata": {},
   "outputs": [
    {
     "name": "stdout",
     "output_type": "stream",
     "text": [
      "<class 'pandas.core.frame.DataFrame'>\n",
      "Int64Index: 23630 entries, 0 to 14992\n",
      "Data columns (total 18 columns):\n",
      "Type                 23630 non-null int64\n",
      "Age                  23630 non-null int64\n",
      "Gender               23630 non-null int64\n",
      "MaturitySize         23630 non-null int64\n",
      "FurLength            23630 non-null int64\n",
      "Vaccinated           23630 non-null int64\n",
      "Dewormed             23630 non-null int64\n",
      "Sterilized           23630 non-null int64\n",
      "Health               23630 non-null int64\n",
      "Fee                  23630 non-null int64\n",
      "State                23630 non-null int64\n",
      "PhotoAmt             23630 non-null float64\n",
      "AdoptionSpeed        23630 non-null int64\n",
      "Organization         23630 non-null float64\n",
      "NameBi               23630 non-null float64\n",
      "DescriptionLenght    23613 non-null float64\n",
      "Breed                23630 non-null object\n",
      "Color                23630 non-null object\n",
      "dtypes: float64(4), int64(12), object(2)\n",
      "memory usage: 4.1+ MB\n"
     ]
    }
   ],
   "source": [
    "puppy_train.info()"
   ]
  },
  {
   "cell_type": "code",
   "execution_count": 96,
   "metadata": {},
   "outputs": [],
   "source": [
    "puppy_train.to_csv(\"lgbtrain.csv\")"
   ]
  },
  {
   "cell_type": "code",
   "execution_count": null,
   "metadata": {},
   "outputs": [],
   "source": [
    "puppy_test.to_csv(\"lgbtest.csv\")"
   ]
  },
  {
   "cell_type": "code",
   "execution_count": null,
   "metadata": {},
   "outputs": [],
   "source": []
  },
  {
   "cell_type": "code",
   "execution_count": null,
   "metadata": {},
   "outputs": [],
   "source": []
  },
  {
   "cell_type": "raw",
   "metadata": {},
   "source": []
  },
  {
   "cell_type": "code",
   "execution_count": null,
   "metadata": {},
   "outputs": [],
   "source": [
    "puppy_train = pd.concat([puppy_train,age_dummy,gender_dummy,vaccinated_dummy,dewormed_dummy,sterilized_dummy,health_dummy,type_dummy,size_dummy,fur_dummy],axis=1)"
   ]
  },
  {
   "cell_type": "code",
   "execution_count": null,
   "metadata": {},
   "outputs": [],
   "source": [
    "puppy_train.info()"
   ]
  },
  {
   "cell_type": "code",
   "execution_count": null,
   "metadata": {},
   "outputs": [],
   "source": [
    "puppy_test.info()"
   ]
  },
  {
   "cell_type": "code",
   "execution_count": null,
   "metadata": {},
   "outputs": [],
   "source": []
  }
 ],
 "metadata": {
  "kernelspec": {
   "display_name": "Python 3",
   "language": "python",
   "name": "python3"
  },
  "language_info": {
   "codemirror_mode": {
    "name": "ipython",
    "version": 3
   },
   "file_extension": ".py",
   "mimetype": "text/x-python",
   "name": "python",
   "nbconvert_exporter": "python",
   "pygments_lexer": "ipython3",
   "version": "3.7.3"
  }
 },
 "nbformat": 4,
 "nbformat_minor": 2
}
