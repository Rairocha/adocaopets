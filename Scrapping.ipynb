{
 "cells": [
  {
   "cell_type": "code",
   "execution_count": 2,
   "metadata": {},
   "outputs": [],
   "source": [
    "import time\n",
    "import requests\n",
    "import pandas as pd\n",
    "from bs4 import BeautifulSoup\n",
    "import pandas as pd\n",
    "import re\n",
    "#import scrapy"
   ]
  },
  {
   "cell_type": "code",
   "execution_count": 3,
   "metadata": {},
   "outputs": [],
   "source": [
    "url = 'https://www.amigonaosecompra.com.br/pets/'\n",
    "puppy = pd.DataFrame()\n"
   ]
  },
  {
   "cell_type": "code",
   "execution_count": 4,
   "metadata": {},
   "outputs": [],
   "source": [
    "puppy=pd.read_csv(\"scrape14.csv\")"
   ]
  },
  {
   "cell_type": "code",
   "execution_count": 6,
   "metadata": {},
   "outputs": [
    {
     "data": {
      "text/html": [
       "<div>\n",
       "<style scoped>\n",
       "    .dataframe tbody tr th:only-of-type {\n",
       "        vertical-align: middle;\n",
       "    }\n",
       "\n",
       "    .dataframe tbody tr th {\n",
       "        vertical-align: top;\n",
       "    }\n",
       "\n",
       "    .dataframe thead th {\n",
       "        text-align: right;\n",
       "    }\n",
       "</style>\n",
       "<table border=\"1\" class=\"dataframe\">\n",
       "  <thead>\n",
       "    <tr style=\"text-align: right;\">\n",
       "      <th></th>\n",
       "      <th>Unnamed: 0</th>\n",
       "      <th>Check</th>\n",
       "      <th>Descricao</th>\n",
       "      <th>Estado</th>\n",
       "      <th>Fotos</th>\n",
       "      <th>PetID</th>\n",
       "      <th>StatusAdocao</th>\n",
       "      <th>TamDescricao</th>\n",
       "      <th>Temperamento</th>\n",
       "    </tr>\n",
       "  </thead>\n",
       "  <tbody>\n",
       "    <tr>\n",
       "      <th>0</th>\n",
       "      <td>0</td>\n",
       "      <td>&lt;ul class=\"pet-check\"&gt;\\n&lt;li&gt;Cachorro&lt;/li&gt;\\n&lt;li...</td>\n",
       "      <td>['\\nA história de LUIS CARLOS\\nLUIS CARLOS - R...</td>\n",
       "      <td>[&lt;p style=\"margin-top: 4px;\"&gt;Está em São Paulo...</td>\n",
       "      <td>1</td>\n",
       "      <td>119</td>\n",
       "      <td>['Esse sortudo já foi adotado, mas tem vários ...</td>\n",
       "      <td>181</td>\n",
       "      <td>['\\nPersonalidade\\n\\n        Temperamentos:\\n ...</td>\n",
       "    </tr>\n",
       "    <tr>\n",
       "      <th>1</th>\n",
       "      <td>1</td>\n",
       "      <td>&lt;ul class=\"pet-check\"&gt;\\n&lt;li&gt;Cachorro&lt;/li&gt;\\n&lt;li...</td>\n",
       "      <td>['\\nA história de RAIKA\\nRAIKA É UMA MESTIÇA D...</td>\n",
       "      <td>[&lt;p style=\"margin-top: 4px;\"&gt;Está em São Paulo...</td>\n",
       "      <td>1</td>\n",
       "      <td>120</td>\n",
       "      <td>['Esse sortudo já foi adotado, mas tem vários ...</td>\n",
       "      <td>170</td>\n",
       "      <td>['\\nPersonalidade\\n\\n        Temperamentos:\\n ...</td>\n",
       "    </tr>\n",
       "    <tr>\n",
       "      <th>2</th>\n",
       "      <td>2</td>\n",
       "      <td>&lt;ul class=\"pet-check\"&gt;\\n&lt;li&gt;Gato&lt;/li&gt;\\n&lt;li&gt;Sex...</td>\n",
       "      <td>['\\nA história de sem nome ainda\\nesse lindo b...</td>\n",
       "      <td>[&lt;p style=\"margin-top: 4px;\"&gt;Está em Rio de Ja...</td>\n",
       "      <td>1</td>\n",
       "      <td>121</td>\n",
       "      <td>['Esse sortudo já foi adotado, mas tem vários ...</td>\n",
       "      <td>209</td>\n",
       "      <td>['\\nPersonalidade\\n\\n        Temperamentos:\\n ...</td>\n",
       "    </tr>\n",
       "    <tr>\n",
       "      <th>3</th>\n",
       "      <td>3</td>\n",
       "      <td>&lt;ul class=\"pet-check\"&gt;\\n&lt;li&gt;Gato&lt;/li&gt;\\n&lt;li&gt;Sex...</td>\n",
       "      <td>['\\nA história de michel teló\\nlindo,aproximad...</td>\n",
       "      <td>[&lt;p style=\"margin-top: 4px;\"&gt;Está em Rio de Ja...</td>\n",
       "      <td>1</td>\n",
       "      <td>122</td>\n",
       "      <td>['Outros bichos esperando o seu clique']</td>\n",
       "      <td>134</td>\n",
       "      <td>['\\nPersonalidade\\n\\n        Temperamentos:\\n ...</td>\n",
       "    </tr>\n",
       "    <tr>\n",
       "      <th>4</th>\n",
       "      <td>4</td>\n",
       "      <td>&lt;ul class=\"pet-check\"&gt;\\n&lt;li&gt;Gato&lt;/li&gt;\\n&lt;li&gt;Sex...</td>\n",
       "      <td>['\\nA história de Ainda sem nome\\nLinda filhot...</td>\n",
       "      <td>[&lt;p style=\"margin-top: 4px;\"&gt;Está em Rio de Ja...</td>\n",
       "      <td>1</td>\n",
       "      <td>123</td>\n",
       "      <td>['Esse sortudo já foi adotado, mas tem vários ...</td>\n",
       "      <td>157</td>\n",
       "      <td>['\\nPersonalidade\\n\\n        Temperamentos:\\n ...</td>\n",
       "    </tr>\n",
       "  </tbody>\n",
       "</table>\n",
       "</div>"
      ],
      "text/plain": [
       "   Unnamed: 0                                              Check  \\\n",
       "0           0  <ul class=\"pet-check\">\\n<li>Cachorro</li>\\n<li...   \n",
       "1           1  <ul class=\"pet-check\">\\n<li>Cachorro</li>\\n<li...   \n",
       "2           2  <ul class=\"pet-check\">\\n<li>Gato</li>\\n<li>Sex...   \n",
       "3           3  <ul class=\"pet-check\">\\n<li>Gato</li>\\n<li>Sex...   \n",
       "4           4  <ul class=\"pet-check\">\\n<li>Gato</li>\\n<li>Sex...   \n",
       "\n",
       "                                           Descricao  \\\n",
       "0  ['\\nA história de LUIS CARLOS\\nLUIS CARLOS - R...   \n",
       "1  ['\\nA história de RAIKA\\nRAIKA É UMA MESTIÇA D...   \n",
       "2  ['\\nA história de sem nome ainda\\nesse lindo b...   \n",
       "3  ['\\nA história de michel teló\\nlindo,aproximad...   \n",
       "4  ['\\nA história de Ainda sem nome\\nLinda filhot...   \n",
       "\n",
       "                                              Estado  Fotos  PetID  \\\n",
       "0  [<p style=\"margin-top: 4px;\">Está em São Paulo...      1    119   \n",
       "1  [<p style=\"margin-top: 4px;\">Está em São Paulo...      1    120   \n",
       "2  [<p style=\"margin-top: 4px;\">Está em Rio de Ja...      1    121   \n",
       "3  [<p style=\"margin-top: 4px;\">Está em Rio de Ja...      1    122   \n",
       "4  [<p style=\"margin-top: 4px;\">Está em Rio de Ja...      1    123   \n",
       "\n",
       "                                        StatusAdocao  TamDescricao  \\\n",
       "0  ['Esse sortudo já foi adotado, mas tem vários ...           181   \n",
       "1  ['Esse sortudo já foi adotado, mas tem vários ...           170   \n",
       "2  ['Esse sortudo já foi adotado, mas tem vários ...           209   \n",
       "3           ['Outros bichos esperando o seu clique']           134   \n",
       "4  ['Esse sortudo já foi adotado, mas tem vários ...           157   \n",
       "\n",
       "                                        Temperamento  \n",
       "0  ['\\nPersonalidade\\n\\n        Temperamentos:\\n ...  \n",
       "1  ['\\nPersonalidade\\n\\n        Temperamentos:\\n ...  \n",
       "2  ['\\nPersonalidade\\n\\n        Temperamentos:\\n ...  \n",
       "3  ['\\nPersonalidade\\n\\n        Temperamentos:\\n ...  \n",
       "4  ['\\nPersonalidade\\n\\n        Temperamentos:\\n ...  "
      ]
     },
     "execution_count": 6,
     "metadata": {},
     "output_type": "execute_result"
    }
   ],
   "source": [
    "puppy.head()"
   ]
  },
  {
   "cell_type": "code",
   "execution_count": 13,
   "metadata": {},
   "outputs": [],
   "source": [
    "puppy = puppy.drop([\"Unnamed: 0\",\"Unnamed: 0.1\",\"Unnamed: 0.1.1\",\"Unnamed: 0.1.1.1\",\"Unnamed: 0.1.1.1.1\",\"Unnamed: 0.1.1.1.1.1\",\"Unnamed: 0.1.1.1.1.1.1\"] ,axis=1)"
   ]
  },
  {
   "cell_type": "code",
   "execution_count": 18,
   "metadata": {},
   "outputs": [
    {
     "data": {
      "text/plain": [
       "list"
      ]
     },
     "execution_count": 18,
     "metadata": {},
     "output_type": "execute_result"
    }
   ],
   "source": [
    "type([i for i in puppy.Estado])"
   ]
  },
  {
   "cell_type": "code",
   "execution_count": 20,
   "metadata": {},
   "outputs": [
    {
     "data": {
      "text/plain": [
       "str"
      ]
     },
     "execution_count": 20,
     "metadata": {},
     "output_type": "execute_result"
    }
   ],
   "source": [
    "type(puppy.Estado[5])"
   ]
  },
  {
   "cell_type": "code",
   "execution_count": null,
   "metadata": {},
   "outputs": [
    {
     "name": "stderr",
     "output_type": "stream",
     "text": [
      "C:\\Users\\raian\\Anaconda3\\lib\\site-packages\\urllib3\\connectionpool.py:847: InsecureRequestWarning: Unverified HTTPS request is being made. Adding certificate verification is strongly advised. See: https://urllib3.readthedocs.io/en/latest/advanced-usage.html#ssl-warnings\n",
      "  InsecureRequestWarning)\n",
      "C:\\Users\\raian\\Anaconda3\\lib\\site-packages\\urllib3\\connectionpool.py:847: InsecureRequestWarning: Unverified HTTPS request is being made. Adding certificate verification is strongly advised. See: https://urllib3.readthedocs.io/en/latest/advanced-usage.html#ssl-warnings\n",
      "  InsecureRequestWarning)\n",
      "C:\\Users\\raian\\Anaconda3\\lib\\site-packages\\urllib3\\connectionpool.py:847: InsecureRequestWarning: Unverified HTTPS request is being made. Adding certificate verification is strongly advised. See: https://urllib3.readthedocs.io/en/latest/advanced-usage.html#ssl-warnings\n",
      "  InsecureRequestWarning)\n",
      "C:\\Users\\raian\\Anaconda3\\lib\\site-packages\\urllib3\\connectionpool.py:847: InsecureRequestWarning: Unverified HTTPS request is being made. Adding certificate verification is strongly advised. See: https://urllib3.readthedocs.io/en/latest/advanced-usage.html#ssl-warnings\n",
      "  InsecureRequestWarning)\n"
     ]
    }
   ],
   "source": [
    "f=18007\n",
    "c = 17997\n",
    "while f < 18010:\n",
    "    for pagenumber in range(c,f):\n",
    "        html = requests.get(url + str(pagenumber),verify=False).content\n",
    "        soup = BeautifulSoup(html)\n",
    "        adopt = [element.text for element in soup.find_all('h3', {'class':\"text-center yellow\"})]\n",
    "        state = soup.find_all\n",
    "        description = [element.text for element in soup.find_all('div', {'class':'about'})]\n",
    "        check = soup.find('ul', {'class':'pet-check'})\n",
    "        information = [element.text for element in soup.find_all('div', {'class':\"col-md-3 col-xs-6 details\"})]\n",
    "        image = soup.find_all('img', {'class':\"img-rounded\"})  \n",
    "        TamDescricao=len(str(description))\n",
    "        Descricao = str(description)\n",
    "        try:\n",
    "            Fotos = len(image) - 6\n",
    "        except:\n",
    "            Fotos = 0\n",
    "        df = pd.DataFrame({\"PetID\":[pagenumber],\"StatusAdocao\": [adopt], \"Estado\": [state], \"TamDescricao\" : [TamDescricao],\"Check\":[check], \"Temperamento\" : [information],\"Fotos\":[Fotos],\"Descricao\":[Descricao]})\n",
    "        puppy = puppy.append(df)\n",
    "        time.sleep(5)\n",
    "    c+=10\n",
    "    f+=10"
   ]
  },
  {
   "cell_type": "raw",
   "metadata": {},
   "source": [
    "adopt = [element.text for element in soup.find_all('h3', {'class':\"text-center yellow\"})]"
   ]
  },
  {
   "cell_type": "raw",
   "metadata": {},
   "source": [
    "df = pd.DataFrame({\"PetID\":[pagenumber],\"StatusAdocao\":[adopt] , \"Estado\": [Estado], \"TamDescricao\" : [TamDescricao], \"Tipo\" : [Tipo], \"Sexo\": [Sexo] ,\n",
    "                       \"Porte\" : [check],\"Temperamento\" : [information], \"Sociavel\" : [Sociavel],\"Local\":[Local], \"Saude\" : [Saude],\"Fotos\":[Fotos],\"Descricao\":[Descricao]})\n",
    "   "
   ]
  },
  {
   "cell_type": "raw",
   "metadata": {},
   "source": [
    "adopt = [element.text for element in soup.find_all('h3', {'class':\"text-center yellow\"})]\n",
    "state = soup.find_all('p', {'style':\"margin-top: 4px;\"})\n",
    "description = [element.text for element in soup.find_all('div', {'class':'about'})]\n",
    "check = soup.find('ul', {'class':'pet-check'})\n",
    "information = [element.text for element in soup.find_all('div', {'class':\"col-md-3 col-xs-6 details\"})]\n",
    "image = soup.find_all('img', {'class':\"img-rounded\"})"
   ]
  },
  {
   "cell_type": "raw",
   "metadata": {},
   "source": [
    "if \"adotado\" in adopt:\n",
    "    StatusAdocao = 1\n",
    "else:\n",
    "    StatusAdocao = 0\n",
    "\n",
    "Estado=str(state).split(\" / \")[1]\n",
    "TamDescricao=len(str(description))\n",
    "Descricao = str(description)\n",
    "if \"Cachorro\" in check:\n",
    "    Tipo = 1\n",
    "else:\n",
    "    Tipo = 2\n",
    "if \"Fêmea\" in check:\n",
    "    Sexo = 1\n",
    "else:\n",
    "    Sexo = 2\n",
    "if \"Médio\" in check:\n",
    "    Porte = 2\n",
    "elif \"Grande\" in check:\n",
    "    Porte = 3\n",
    "else:\n",
    "    Porte =1\n",
    "Temperamento = str(str(information).split(\"\\\\n\\\\n\")[1].split(\"\\\\n\"))\n",
    "Sociavel = str(str(information).split(\"\\\\n\\\\n\")[2].split(\"\\\\n\"))\n",
    "Local = str(str(information).split(\"\\\\n\\\\n\")[4].split(\"\\\\n\"))\n",
    "Saude = str(str(information).split(\"\\\\n\\\\n\")[5].split(\"\\\\n\"))\n",
    "Fotos = str(len(image) - 6)\n"
   ]
  },
  {
   "cell_type": "raw",
   "metadata": {},
   "source": [
    "df = pd.DataFrame({\"StatusAdocao\": [StatusAdocao], \"Estado\": [Estado], \"TamDescricao\" : [TamDescricao], \"Tipo\" : [Tipo], \"Sexo\": [Sexo] ,\n",
    "                       \"Porte\" : [Porte],\"Temperamento\" : [Temperamento], \"Sociavel\" : [Sociavel],\"Local\":[Local], \"Saude\" : [Saude],\"Fotos\":[Fotos],\"Descricao\":[Descricao]})"
   ]
  },
  {
   "cell_type": "code",
   "execution_count": null,
   "metadata": {},
   "outputs": [],
   "source": []
  },
  {
   "cell_type": "code",
   "execution_count": null,
   "metadata": {},
   "outputs": [],
   "source": [
    "puppy[\"StatusAdocao\"].value_counts()"
   ]
  },
  {
   "cell_type": "code",
   "execution_count": 37,
   "metadata": {},
   "outputs": [
    {
     "name": "stdout",
     "output_type": "stream",
     "text": [
      "<class 'pandas.core.frame.DataFrame'>\n",
      "RangeIndex: 18544 entries, 0 to 18543\n",
      "Data columns (total 15 columns):\n",
      "Unnamed: 0                18544 non-null int64\n",
      "Check                     11779 non-null object\n",
      "Descricao                 18544 non-null object\n",
      "Estado                    18544 non-null object\n",
      "Fotos                     18544 non-null int64\n",
      "PetID                     18544 non-null int64\n",
      "StatusAdocao              18544 non-null object\n",
      "TamDescricao              18544 non-null int64\n",
      "Temperamento              18544 non-null object\n",
      "Unnamed: 0.1              16524 non-null float64\n",
      "Unnamed: 0.1.1            13344 non-null float64\n",
      "Unnamed: 0.1.1.1          11844 non-null float64\n",
      "Unnamed: 0.1.1.1.1        10336 non-null float64\n",
      "Unnamed: 0.1.1.1.1.1      8006 non-null float64\n",
      "Unnamed: 0.1.1.1.1.1.1    6872 non-null float64\n",
      "dtypes: float64(6), int64(4), object(5)\n",
      "memory usage: 2.1+ MB\n"
     ]
    }
   ],
   "source": [
    "puppy.info()"
   ]
  },
  {
   "cell_type": "code",
   "execution_count": 21,
   "metadata": {},
   "outputs": [],
   "source": [
    "puppy.to_csv(\"scrape14.csv\")"
   ]
  },
  {
   "cell_type": "raw",
   "metadata": {},
   "source": [
    "\"Vaccinated\",\"Dewormed\",\"Sterilized\",\"PhotoAmt\",\"Name\",\"DescriptionLenght\",\"AdoptionSpeed\""
   ]
  },
  {
   "cell_type": "raw",
   "metadata": {},
   "source": [
    "\"Type\",\"Gender\",\"MaturitySize\",\"FurLength\",\"Health\",\"Color\",\"Breed\",\"AdoptionSpeed\""
   ]
  },
  {
   "cell_type": "markdown",
   "metadata": {},
   "source": [
    "puppy_2 = puppy.dropna()"
   ]
  },
  {
   "cell_type": "markdown",
   "metadata": {},
   "source": [
    "def soup(x):\n",
    "    soup = BeautifulSoup(x)\n",
    "    return str(soup)"
   ]
  },
  {
   "cell_type": "markdown",
   "metadata": {},
   "source": [
    "puppy_2.Estado = puppy_2.Estado.apply(soup)"
   ]
  },
  {
   "cell_type": "markdown",
   "metadata": {},
   "source": [
    "puppy['Estado'] = puppy['Estado'].astype('|S') "
   ]
  },
  {
   "cell_type": "code",
   "execution_count": 70,
   "metadata": {},
   "outputs": [
    {
     "name": "stdout",
     "output_type": "stream",
     "text": [
      "<class 'pandas.core.frame.DataFrame'>\n",
      "RangeIndex: 18544 entries, 0 to 18543\n",
      "Data columns (total 15 columns):\n",
      "Unnamed: 0                18544 non-null int64\n",
      "Check                     11779 non-null object\n",
      "Descricao                 18544 non-null object\n",
      "Estado                    18544 non-null object\n",
      "Fotos                     18544 non-null int64\n",
      "PetID                     18544 non-null int64\n",
      "StatusAdocao              18544 non-null object\n",
      "TamDescricao              18544 non-null int64\n",
      "Temperamento              18544 non-null object\n",
      "Unnamed: 0.1              16524 non-null float64\n",
      "Unnamed: 0.1.1            13344 non-null float64\n",
      "Unnamed: 0.1.1.1          11844 non-null float64\n",
      "Unnamed: 0.1.1.1.1        10336 non-null float64\n",
      "Unnamed: 0.1.1.1.1.1      8006 non-null float64\n",
      "Unnamed: 0.1.1.1.1.1.1    6872 non-null float64\n",
      "dtypes: float64(6), int64(4), object(5)\n",
      "memory usage: 2.1+ MB\n"
     ]
    }
   ],
   "source": [
    "puppy.info()"
   ]
  },
  {
   "cell_type": "code",
   "execution_count": 73,
   "metadata": {},
   "outputs": [
    {
     "ename": "MemoryError",
     "evalue": "",
     "output_type": "error",
     "traceback": [
      "\u001b[1;31m---------------------------------------------------------------------------\u001b[0m",
      "\u001b[1;31mMemoryError\u001b[0m                               Traceback (most recent call last)",
      "\u001b[1;32m<ipython-input-73-8e714274a206>\u001b[0m in \u001b[0;36m<module>\u001b[1;34m\u001b[0m\n\u001b[1;32m----> 1\u001b[1;33m \u001b[0mpuppy\u001b[0m\u001b[1;33m.\u001b[0m\u001b[0mEstado\u001b[0m \u001b[1;33m=\u001b[0m \u001b[1;34m','\u001b[0m\u001b[1;33m.\u001b[0m\u001b[0mjoin\u001b[0m\u001b[1;33m(\u001b[0m\u001b[0mstr\u001b[0m\u001b[1;33m(\u001b[0m\u001b[0mchild\u001b[0m\u001b[1;33m)\u001b[0m \u001b[1;32mfor\u001b[0m \u001b[0mchild\u001b[0m \u001b[1;32min\u001b[0m \u001b[0mpuppy\u001b[0m\u001b[1;33m.\u001b[0m\u001b[0mEstado\u001b[0m\u001b[1;33m)\u001b[0m\u001b[1;33m\u001b[0m\u001b[1;33m\u001b[0m\u001b[0m\n\u001b[0m",
      "\u001b[1;31mMemoryError\u001b[0m: "
     ]
    }
   ],
   "source": [
    "puppy.Estado = ','.join(str(child) for child in puppy.Estado)"
   ]
  },
  {
   "cell_type": "code",
   "execution_count": 1,
   "metadata": {},
   "outputs": [],
   "source": [
    "l=[10,10,1020,50,60]"
   ]
  },
  {
   "cell_type": "code",
   "execution_count": 7,
   "metadata": {},
   "outputs": [
    {
     "data": {
      "text/plain": [
       "[10, 1020, 50, 60]"
      ]
     },
     "execution_count": 7,
     "metadata": {},
     "output_type": "execute_result"
    }
   ],
   "source": [
    "list(set(l))"
   ]
  },
  {
   "cell_type": "markdown",
   "metadata": {},
   "source": [
    "Job description: You’ll be managing data pipelines for companies that deal with large volumes of data. That means making sure that your data is being efficiently collected and retrieved from its source when needed, cleaned and preprocessed.\n",
    "Why it’s important: If you’ve only ever worked with relatively small (<5 Gb) datasets stored in .csv or .txt files, it might be hard to understand why there would exist people whose full-time jobs it is to build and maintain data pipelines. Here are a couple of reasons: 1) A 50 Gb dataset won’t fit in your computer’s RAM, so you generally need other ways to feed it into your model, and 2) that much data can take a ridiculous amount of time to process, and often has to be stored redundantly. Managing that storage takes specialized technical know-how.\n",
    "Requirements: The technologies you’ll be working with include Apache Spark, Hadoop and/or Hive, as well as Kafka. You’ll most likely need to have a solid foundation in SQL.\n",
    "The questions you’ll be dealing with sound like:\n",
    "→ “How do I build a pipeline that can handle 10 000 requests per minute?”\n",
    "→ “How can I clean this dataset without loading it all in RAM?”"
   ]
  }
 ],
 "metadata": {
  "kernelspec": {
   "display_name": "Python 3",
   "language": "python",
   "name": "python3"
  },
  "language_info": {
   "codemirror_mode": {
    "name": "ipython",
    "version": 3
   },
   "file_extension": ".py",
   "mimetype": "text/x-python",
   "name": "python",
   "nbconvert_exporter": "python",
   "pygments_lexer": "ipython3",
   "version": "3.7.3"
  }
 },
 "nbformat": 4,
 "nbformat_minor": 2
}
